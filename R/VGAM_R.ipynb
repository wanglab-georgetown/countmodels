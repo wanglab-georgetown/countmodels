{
 "cells": [
  {
   "cell_type": "markdown",
   "id": "6e4c21d3",
   "metadata": {},
   "source": [
    "# VGAM\n",
    "\n",
    "This shows how to apply VGAM to on a sample scRNA-seq dataset which contains 17 clusters and each cluster contains 20 genes. It cannot return results for most genes."
   ]
  },
  {
   "cell_type": "code",
   "execution_count": null,
   "id": "0b947a4b",
   "metadata": {},
   "outputs": [],
   "source": [
    "# install.packages(\"VGAM\")"
   ]
  },
  {
   "cell_type": "code",
   "execution_count": 1,
   "id": "74e214bb",
   "metadata": {},
   "outputs": [
    {
     "name": "stderr",
     "output_type": "stream",
     "text": [
      "Loading required package: stats4\n",
      "\n",
      "Loading required package: splines\n",
      "\n"
     ]
    }
   ],
   "source": [
    "library(VGAM)\n",
    "library(matrixStats)\n",
    "library(magrittr)\n",
    "library(ggplot2)\n",
    "library(biomaRt)\n",
    "library(data.table)"
   ]
  },
  {
   "cell_type": "code",
   "execution_count": 2,
   "id": "10e8de34",
   "metadata": {},
   "outputs": [],
   "source": [
    "df_g = read.csv(file = '../data/model_sel_genes.csv')\n",
    "df_m = read.csv(unz('../data/meta.zip', \"meta.tsv\"),sep =\"\\t\")\n",
    "df = read.csv(unz('../data/model_sel_count.zip', \"model_sel_count.csv\"))"
   ]
  },
  {
   "cell_type": "code",
   "execution_count": 3,
   "id": "15d46083",
   "metadata": {},
   "outputs": [],
   "source": [
    "setnames(df_m, \n",
    "         old = c('post.mortem.interval..hours.', 'RNA.Integrity.Number', 'RNA.mitochondr..percent', 'RNA.ribosomal.percent'), \n",
    "         new = c('PMI', 'RIN', 'ribo_pct', 'mito_pct')\n",
    "        )"
   ]
  },
  {
   "cell_type": "code",
   "execution_count": 4,
   "id": "8dcccaca",
   "metadata": {},
   "outputs": [],
   "source": [
    "df_m['UMIs_log']=log(df_m['UMIs'])\n",
    "df_m['genes_log']=log(df_m['genes'])"
   ]
  },
  {
   "cell_type": "code",
   "execution_count": 5,
   "id": "71623559",
   "metadata": {},
   "outputs": [],
   "source": [
    "normFunc <- function(x){(x-mean(x, na.rm = T))/sd(x, na.rm = T)}\n",
    "features = c(\"UMIs\",\n",
    "    \"genes\",\n",
    "    \"UMIs_log\",\n",
    "    \"genes_log\",\n",
    "    \"sex\",\n",
    "    \"age\",\n",
    "    \"Capbatch\",\n",
    "    \"PMI\",\n",
    "    \"RIN\",\n",
    "    \"ribo_pct\",\n",
    "    \"mito_pct\")\n",
    "\n",
    "f_to_norm  = c('UMIs_log',\n",
    " 'age',\n",
    " 'PMI',\n",
    " 'RIN',\n",
    " 'ribo_pct',\n",
    " 'mito_pct')\n",
    "\n",
    "clusters = unique(df_m[,'cluster'])"
   ]
  },
  {
   "cell_type": "code",
   "execution_count": 6,
   "id": "7071c5da",
   "metadata": {},
   "outputs": [],
   "source": [
    "formula_base =paste('~',paste(features,collapse='+'),sep='')"
   ]
  },
  {
   "cell_type": "code",
   "execution_count": 7,
   "id": "e2eecfcb",
   "metadata": {},
   "outputs": [
    {
     "name": "stdout",
     "output_type": "stream",
     "text": [
      "[1] \"Neu-NRGN-II\"\n"
     ]
    },
    {
     "name": "stderr",
     "output_type": "stream",
     "text": [
      "Warning message in eval(slot(family, \"initialize\")):\n",
      "“from the initial values only, the data appears to have little or no 0-inflation, and possibly 0-deflation.”\n"
     ]
    },
    {
     "name": "stdout",
     "output_type": "stream",
     "text": [
      "Error in checkwz(wz, M = M, trace = trace, wzepsilon = control$wzepsilon) : \n",
      "  NAs found in the working weights variable 'wz'\n"
     ]
    },
    {
     "name": "stderr",
     "output_type": "stream",
     "text": [
      "Warning message in eval(slot(family, \"initialize\")):\n",
      "“from the initial values only, the data appears to have little or no 0-inflation, and possibly 0-deflation.”\n"
     ]
    },
    {
     "name": "stdout",
     "output_type": "stream",
     "text": [
      "Error in checkwz(wz, M = M, trace = trace, wzepsilon = control$wzepsilon) : \n",
      "  NAs found in the working weights variable 'wz'\n"
     ]
    },
    {
     "name": "stderr",
     "output_type": "stream",
     "text": [
      "Warning message in checkwz(wz, M = M, trace = trace, wzepsilon = control$wzepsilon):\n",
      "“1744 diagonal elements of the working weights variable 'wz' have been replaced by 1.819e-12”\n",
      "Warning message in checkwz(wz, M = M, trace = trace, wzepsilon = control$wzepsilon):\n",
      "“1896 diagonal elements of the working weights variable 'wz' have been replaced by 1.819e-12”\n",
      "Warning message in checkwz(wz, M = M, trace = trace, wzepsilon = control$wzepsilon):\n",
      "“404 diagonal elements of the working weights variable 'wz' have been replaced by 1.819e-12”\n",
      "Warning message in checkwz(wz, M = M, trace = trace, wzepsilon = control$wzepsilon):\n",
      "“437 diagonal elements of the working weights variable 'wz' have been replaced by 1.819e-12”\n",
      "Warning message in checkwz(wz, M = M, trace = trace, wzepsilon = control$wzepsilon):\n",
      "“1300 diagonal elements of the working weights variable 'wz' have been replaced by 1.819e-12”\n",
      "Warning message in checkwz(wz, M = M, trace = trace, wzepsilon = control$wzepsilon):\n",
      "“1284 diagonal elements of the working weights variable 'wz' have been replaced by 1.819e-12”\n",
      "Warning message in checkwz(wz, M = M, trace = trace, wzepsilon = control$wzepsilon):\n",
      "“690 diagonal elements of the working weights variable 'wz' have been replaced by 1.819e-12”\n",
      "Warning message in checkwz(wz, M = M, trace = trace, wzepsilon = control$wzepsilon):\n",
      "“707 diagonal elements of the working weights variable 'wz' have been replaced by 1.819e-12”\n",
      "Warning message in checkwz(wz, M = M, trace = trace, wzepsilon = control$wzepsilon):\n",
      "“1069 diagonal elements of the working weights variable 'wz' have been replaced by 1.819e-12”\n",
      "Warning message in checkwz(wz, M = M, trace = trace, wzepsilon = control$wzepsilon):\n",
      "“1067 diagonal elements of the working weights variable 'wz' have been replaced by 1.819e-12”\n",
      "Warning message in checkwz(wz, M = M, trace = trace, wzepsilon = control$wzepsilon):\n",
      "“822 diagonal elements of the working weights variable 'wz' have been replaced by 1.819e-12”\n",
      "Warning message in checkwz(wz, M = M, trace = trace, wzepsilon = control$wzepsilon):\n",
      "“830 diagonal elements of the working weights variable 'wz' have been replaced by 1.819e-12”\n",
      "Warning message in checkwz(wz, M = M, trace = trace, wzepsilon = control$wzepsilon):\n",
      "“981 diagonal elements of the working weights variable 'wz' have been replaced by 1.819e-12”\n",
      "Warning message in checkwz(wz, M = M, trace = trace, wzepsilon = control$wzepsilon):\n",
      "“977 diagonal elements of the working weights variable 'wz' have been replaced by 1.819e-12”\n",
      "Warning message in checkwz(wz, M = M, trace = trace, wzepsilon = control$wzepsilon):\n",
      "“880 diagonal elements of the working weights variable 'wz' have been replaced by 1.819e-12”\n",
      "Warning message in checkwz(wz, M = M, trace = trace, wzepsilon = control$wzepsilon):\n",
      "“882 diagonal elements of the working weights variable 'wz' have been replaced by 1.819e-12”\n",
      "Warning message in checkwz(wz, M = M, trace = trace, wzepsilon = control$wzepsilon):\n",
      "“942 diagonal elements of the working weights variable 'wz' have been replaced by 1.819e-12”\n",
      "Warning message in checkwz(wz, M = M, trace = trace, wzepsilon = control$wzepsilon):\n",
      "“940 diagonal elements of the working weights variable 'wz' have been replaced by 1.819e-12”\n",
      "Warning message in checkwz(wz, M = M, trace = trace, wzepsilon = control$wzepsilon):\n",
      "“906 diagonal elements of the working weights variable 'wz' have been replaced by 1.819e-12”\n",
      "Warning message in checkwz(wz, M = M, trace = trace, wzepsilon = control$wzepsilon):\n",
      "“907 diagonal elements of the working weights variable 'wz' have been replaced by 1.819e-12”\n",
      "Warning message in checkwz(wz, M = M, trace = trace, wzepsilon = control$wzepsilon):\n",
      "“930 diagonal elements of the working weights variable 'wz' have been replaced by 1.819e-12”\n",
      "Warning message in checkwz(wz, M = M, trace = trace, wzepsilon = control$wzepsilon):\n",
      "“930 diagonal elements of the working weights variable 'wz' have been replaced by 1.819e-12”\n",
      "Warning message in checkwz(wz, M = M, trace = trace, wzepsilon = control$wzepsilon):\n",
      "“916 diagonal elements of the working weights variable 'wz' have been replaced by 1.819e-12”\n",
      "Warning message in eval(slot(family, \"initialize\")):\n",
      "“from the initial values only, the data appears to have little or no 0-inflation, and possibly 0-deflation.”\n"
     ]
    },
    {
     "name": "stdout",
     "output_type": "stream",
     "text": [
      "Error in checkwz(wz, M = M, trace = trace, wzepsilon = control$wzepsilon) : \n",
      "  NAs found in the working weights variable 'wz'\n"
     ]
    },
    {
     "name": "stderr",
     "output_type": "stream",
     "text": [
      "Warning message in eval(slot(family, \"initialize\")):\n",
      "“from the initial values only, the data appears to have little or no 0-inflation, and possibly 0-deflation.”\n"
     ]
    },
    {
     "name": "stdout",
     "output_type": "stream",
     "text": [
      "Error in checkwz(wz, M = M, trace = trace, wzepsilon = control$wzepsilon) : \n",
      "  NAs found in the working weights variable 'wz'\n"
     ]
    }
   ],
   "source": [
    "df_r = NULL\n",
    "for(cluster in clusters) {\n",
    "    print(cluster)\n",
    "    gene_ids=df_g[df_g$cluster==cluster,'gene_id']\n",
    "    df_f = df_m[df_m$cluster==cluster,features]\n",
    "    df_f[f_to_norm] <- apply(df_f[f_to_norm], 2, normFunc)\n",
    "    Y = t(df[df$cell %in% df_m[df_m$cluster==cluster,'cell'],names(df) %in% gene_ids])\n",
    "    X=with(df_f,model.matrix(as.formula(formula_base)))\n",
    "    \n",
    "    # VGAM\n",
    "    data = cbind(df_f,t(Y))\n",
    "    ts = c()\n",
    "    llfs = c()\n",
    "    for(gene_id in rownames(Y)) {\n",
    "        rrzinb = NULL\n",
    "        \n",
    "        start_time <- Sys.time()\n",
    "        try({\n",
    "              rrzinb <- rrvglm(as.formula(paste(gene_id,formula_base)), \n",
    "                             zinegbinomial(zero = NULL), data = data,\n",
    "                             Index.corner = 2, str0 = 3, control = rrvglm.control(trace = F,noWarning=T))\n",
    "        })\n",
    "        end_time <- Sys.time()\n",
    "        t = difftime(end_time, start_time, units = \"secs\")\n",
    "        \n",
    "        ts = c(ts,t)\n",
    "        if(is.null(rrzinb) || class(rrzinb) == 'character') {\n",
    "            llfs = c(llfs,NA)\n",
    "        }\n",
    "        else {\n",
    "            llfs = c(llfs,logLik(rrzinb))\n",
    "        }\n",
    "    }\n",
    "    df_t <- data.frame(\"gene_id\"=rownames(Y))\n",
    "    df_t['cpu_time']=ts\n",
    "    df_t['llf']=llfs\n",
    "    \n",
    "    if(is.null(df_r)) {\n",
    "        df_r = df_t\n",
    "    }\n",
    "    else {\n",
    "        df_r = rbind(df_r,df_t)\n",
    "    }\n",
    "    write.csv(df_r,'VGAM.csv')\n",
    "}"
   ]
  },
  {
   "cell_type": "code",
   "execution_count": null,
   "id": "a1b82c0e",
   "metadata": {},
   "outputs": [],
   "source": []
  }
 ],
 "metadata": {
  "kernelspec": {
   "display_name": "R",
   "language": "R",
   "name": "ir"
  },
  "language_info": {
   "codemirror_mode": "r",
   "file_extension": ".r",
   "mimetype": "text/x-r-source",
   "name": "R",
   "pygments_lexer": "r",
   "version": "4.3.0"
  }
 },
 "nbformat": 4,
 "nbformat_minor": 5
}
