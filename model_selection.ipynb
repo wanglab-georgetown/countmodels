{
 "cells": [
  {
   "cell_type": "markdown",
   "id": "7201e358",
   "metadata": {},
   "source": [
    "# Model Selection for scRNA-seq Analysis\n",
    "\n",
    "This notebook shows how to run all models on a subset of real scRNA-seq data and use AIC to do model selection. We find ZINB achieves the highest log likelihood and the lowest AIC among 7 models."
   ]
  },
  {
   "cell_type": "code",
   "execution_count": 1,
   "id": "db77277f",
   "metadata": {},
   "outputs": [],
   "source": [
    "from models.poi import Poi\n",
    "from models.nb import NB\n",
    "from models.poih import PoiH\n",
    "from models.nbh import NBH\n",
    "from models.zipoi import ZIPoi\n",
    "from models.zinb import ZINB\n",
    "from models.mast import MAST\n",
    "\n",
    "import numpy as np\n",
    "import pandas as pd\n",
    "import time\n",
    "from scipy import stats\n",
    "import matplotlib.pyplot as plt\n",
    "import seaborn as sns\n",
    "import pickle\n",
    "\n",
    "from tensorzinb.utils import correct_pvalues_for_multiple_testing,normalize_features\n",
    "from utils import find_independent_columns,gen_feature_df\n",
    "\n",
    "plt.style.use('ggplot')"
   ]
  },
  {
   "cell_type": "markdown",
   "id": "6a64029e",
   "metadata": {},
   "source": [
    "## Preparation"
   ]
  },
  {
   "cell_type": "code",
   "execution_count": 2,
   "id": "f9be6bca",
   "metadata": {},
   "outputs": [],
   "source": [
    "model_classes = [Poi, NB, PoiH, NBH, ZIPoi, ZINB, MAST]\n",
    "\n",
    "methods={\n",
    "    Poi: ['stan','statsmodels'],\n",
    "    NB: ['stan','statsmodels','tensorflow'],\n",
    "    PoiH: ['stan','statsmodels'],\n",
    "    NBH: ['stan','statsmodels'],\n",
    "    ZIPoi: ['stan','statsmodels'],\n",
    "    ZINB: ['stan','statsmodels','tensorflow'],\n",
    "    MAST: ['statsmodels'],\n",
    "}"
   ]
  },
  {
   "cell_type": "markdown",
   "id": "0b639bc6",
   "metadata": {},
   "source": [
    "load data"
   ]
  },
  {
   "cell_type": "code",
   "execution_count": 3,
   "id": "8d78af03",
   "metadata": {},
   "outputs": [],
   "source": [
    "df_g = pd.read_csv('./data/model_sel_genes.csv')\n",
    "df_m = pd.read_csv('./data/meta.zip',sep='\\t')\n",
    "df_m.set_index('cell', inplace=True)\n",
    "columns = {\"post-mortem interval (hours)\": \"PMI\", \"RNA Integrity Number\": \"RIN\", \"RNA ribosomal percent\": \"ribo_pct\", \"RNA mitochondr. percent\": \"mito_pct\"}\n",
    "df_feature = df_m.rename(columns=columns)\n",
    "df =  pd.read_csv('./data/model_sel_count.zip').set_index('cell')\n"
   ]
  },
  {
   "cell_type": "markdown",
   "id": "ecc8542b",
   "metadata": {},
   "source": [
    "create additional features"
   ]
  },
  {
   "cell_type": "code",
   "execution_count": 4,
   "id": "bf751f31",
   "metadata": {},
   "outputs": [],
   "source": [
    "df_feature['genes_log'] = np.log(df_feature['genes'])\n",
    "df_feature['UMIs_log'] = np.log(df_feature['UMIs'])\n",
    "\n",
    "# for MAST\n",
    "df_feature['scaler'] = 10000.0/df_feature['UMIs']"
   ]
  },
  {
   "cell_type": "code",
   "execution_count": 5,
   "id": "430f50c7",
   "metadata": {},
   "outputs": [],
   "source": [
    "exog_features = [\n",
    "    \"UMIs\",\n",
    "    \"genes\",\n",
    "    \"UMIs_log\",\n",
    "    \"genes_log\",\n",
    "    \"sex\",\n",
    "    \"age\",\n",
    "    \"Capbatch\",\n",
    "    \"PMI\",\n",
    "    \"RIN\",\n",
    "    \"ribo_pct\",\n",
    "    \"mito_pct\",\n",
    "]\n",
    "\n",
    "exog_features_infl = [\n",
    "    \"UMIs\",\n",
    "    \"UMIs_log\",\n",
    "    \"genes_log\",\n",
    "    \"sex\",\n",
    "    \"age\",\n",
    "    \"Capbatch\",\n",
    "    \"ribo_pct\",\n",
    "    \"mito_pct\",\n",
    "]\n",
    "\n",
    "features_to_norm = [\n",
    "    \"UMIs\",\n",
    "    \"genes\",\n",
    "    \"UMIs_log\",\n",
    "    \"genes_log\",\n",
    "    \"age\",\n",
    "    \"PMI\",\n",
    "    \"RIN\",\n",
    "    \"ribo_pct\",\n",
    "    \"mito_pct\",\n",
    "]"
   ]
  },
  {
   "cell_type": "code",
   "execution_count": 6,
   "id": "eba16a36",
   "metadata": {},
   "outputs": [],
   "source": [
    "clusters = df_g.cluster.unique()"
   ]
  },
  {
   "cell_type": "markdown",
   "id": "03fb6387",
   "metadata": {},
   "source": [
    "## run all models on sample data"
   ]
  },
  {
   "cell_type": "code",
   "execution_count": 7,
   "id": "9c9902c1",
   "metadata": {},
   "outputs": [],
   "source": [
    "import datetime\n",
    "\n",
    "suffix = datetime.date.today().strftime(\"%m_%d_%Y\")\n",
    "pickle_name = \"model_selection_{}.pickle\".format(suffix)"
   ]
  },
  {
   "cell_type": "code",
   "execution_count": 8,
   "id": "d395e7e6",
   "metadata": {},
   "outputs": [],
   "source": [
    "model_path = \"./models\"\n",
    "\n",
    "rs = []\n",
    "k = 0\n",
    "for cluster in clusters:\n",
    "    print(cluster)\n",
    "    gene_ids = df_g[df_g.cluster == cluster].gene_id.values\n",
    "    \n",
    "    # normalize features\n",
    "    df_feature1 = df_feature[df_feature.cluster == cluster].copy()\n",
    "    df_feature1 = normalize_features(df_feature1, features_to_norm)\n",
    "\n",
    "    df_data = pd.merge(\n",
    "        df[gene_ids], df_feature1.reset_index()[[\"cell\"]], on=\"cell\"\n",
    "    ).set_index(\"cell\")\n",
    "\n",
    "    df_exog = gen_feature_df(df_feature1, exog_features)\n",
    "    df_exog_infl = gen_feature_df(df_feature1, exog_features_infl)\n",
    "\n",
    "    # find independent features\n",
    "    cols = find_independent_columns(df_exog)\n",
    "    exog = df_exog[cols].values\n",
    "    cols = find_independent_columns(df_exog_infl)\n",
    "    exog_infl = df_exog_infl[cols].values\n",
    "    scaler = df_feature1[\"scaler\"].values\n",
    "\n",
    "    endog = df_data[gene_ids].values\n",
    "\n",
    "    for model_class in model_classes:\n",
    "        print(model_class)\n",
    "        if model_class == MAST:\n",
    "            mod = model_class(\n",
    "                endog, exog, exog_infl=exog_infl, model_path=\"./models\", scaler=scaler\n",
    "            )\n",
    "        else:\n",
    "            mod = model_class(endog, exog, exog_infl=exog_infl, model_path=\"./models\")\n",
    "\n",
    "        for method in methods[model_class]:\n",
    "            r = mod.fit(method=method)\n",
    "            for ii in range(len(gene_ids)):\n",
    "                t = r[ii]\n",
    "                t[\"gene_id\"] = gene_ids[ii]\n",
    "                t[\"cluster\"] = cluster\n",
    "                r[ii] = t\n",
    "            rs = rs + r\n",
    "\n",
    "        with open(pickle_name, \"wb\") as output_file:\n",
    "            pickle.dump(rs, output_file)\n",
    "\n",
    "with open(pickle_name, \"wb\") as output_file:\n",
    "    pickle.dump(rs, output_file)"
   ]
  },
  {
   "cell_type": "code",
   "execution_count": 9,
   "id": "2c4a1f63",
   "metadata": {},
   "outputs": [],
   "source": [
    "dfr=pd.DataFrame(rs)\n",
    "\n",
    "order=['poi','poih', 'zipoi','mast', 'nb',  'nbh', 'zinb']"
   ]
  },
  {
   "cell_type": "markdown",
   "id": "69e13f81",
   "metadata": {},
   "source": [
    "## plot log likelihood\n",
    "\n",
    "we find ZINB attains the highest log likelihood."
   ]
  },
  {
   "cell_type": "code",
   "execution_count": 10,
   "id": "f6be7e98",
   "metadata": {},
   "outputs": [
    {
     "data": {
      "text/plain": [
       "model\n",
       "mast     2.514231e+02\n",
       "nb       8.570309e+01\n",
       "nbh      1.505646e+02\n",
       "poi      5.690004e+03\n",
       "poih     5.517142e+03\n",
       "zinb     1.652159e-12\n",
       "zipoi    5.418897e+03\n",
       "Name: llf, dtype: float64"
      ]
     },
     "execution_count": 10,
     "metadata": {},
     "output_type": "execute_result"
    }
   ],
   "source": [
    "df_llf = dfr.groupby(['gene_id', 'cluster','model'])['llf'].max().reset_index()\n",
    "df_llf['not_nan']=1-np.isnan(df_llf['llf'])\n",
    "df_llf['cnt']=df_llf.groupby(['gene_id', 'cluster']).transform('sum')['not_nan']\n",
    "dfp=df_llf[df_llf['cnt']==7].copy()\n",
    "max_llf = dfp.groupby('model').llf.mean().max()\n",
    "dfp['llf']=max_llf-dfp['llf']\n",
    "dfp.groupby('model').llf.mean()"
   ]
  },
  {
   "cell_type": "code",
   "execution_count": 11,
   "id": "87f195e1",
   "metadata": {},
   "outputs": [
    {
     "data": {
      "image/png": "[encoded data removed]",
      "text/plain": [
       "<Figure size 1200x600 with 1 Axes>"
      ]
     },
     "metadata": {},
     "output_type": "display_data"
    }
   ],
   "source": [
    "fig, ax = plt.subplots(figsize=(12,6))\n",
    "sns.barplot(x=\"model\", y='llf', data=dfp,ax=ax, errorbar=None, order=order)\n",
    "fig.suptitle('best log likelihood - model log likelihood', fontsize=15);\n",
    "ax.set_ylabel('');"
   ]
  },
  {
   "cell_type": "markdown",
   "id": "edd0b85d",
   "metadata": {},
   "source": [
    "## plot AIC\n",
    "\n",
    "we find ZINB attains the lowest AIC."
   ]
  },
  {
   "cell_type": "code",
   "execution_count": 12,
   "id": "8f464349",
   "metadata": {},
   "outputs": [
    {
     "data": {
      "text/plain": [
       "model\n",
       "mast     5.007574e+02\n",
       "nb       1.414062e+02\n",
       "nbh      3.011291e+02\n",
       "poi      1.134801e+04\n",
       "poih     1.103228e+04\n",
       "zinb     3.304318e-12\n",
       "zipoi    1.083579e+04\n",
       "Name: aic, dtype: float64"
      ]
     },
     "execution_count": 12,
     "metadata": {},
     "output_type": "execute_result"
    }
   ],
   "source": [
    "df_aic = dfr.groupby(['gene_id', 'cluster','model'])['aic'].min().reset_index()\n",
    "df_aic['not_nan']=1-np.isnan(df_aic['aic'])\n",
    "df_aic['cnt']=df_aic.groupby(['gene_id', 'cluster']).transform('sum')['not_nan']\n",
    "dfp=df_aic[df_aic['cnt']==7].copy()\n",
    "min_aic = dfp.groupby('model').aic.mean().min()\n",
    "dfp['aic']=dfp['aic']-min_aic\n",
    "dfp.groupby('model').aic.mean()"
   ]
  },
  {
   "cell_type": "code",
   "execution_count": 13,
   "id": "95aa344f",
   "metadata": {},
   "outputs": [
    {
     "data": {
      "image/png": "[encoded data removed]",
      "text/plain": [
       "<Figure size 1200x600 with 1 Axes>"
      ]
     },
     "metadata": {},
     "output_type": "display_data"
    }
   ],
   "source": [
    "fig, ax = plt.subplots(figsize=(12,6))\n",
    "sns.barplot(x=\"model\", y='aic', data=dfp,ax=ax, errorbar=None, order=order)\n",
    "fig.suptitle('model AIC - min AIC', fontsize=15);\n",
    "ax.set_ylabel('');"
   ]
  },
  {
   "cell_type": "markdown",
   "id": "5a739264",
   "metadata": {},
   "source": [
    "## plot computing time"
   ]
  },
  {
   "cell_type": "code",
   "execution_count": 14,
   "id": "5cc48691",
   "metadata": {},
   "outputs": [
    {
     "data": {
      "text/plain": [
       "model\n",
       "mast      0.244022\n",
       "nb        0.367950\n",
       "nbh      13.528446\n",
       "poi       0.022161\n",
       "poih      0.670150\n",
       "zinb      0.817458\n",
       "zipoi     4.141872\n",
       "Name: cpu_time, dtype: float64"
      ]
     },
     "execution_count": 14,
     "metadata": {},
     "output_type": "execute_result"
    }
   ],
   "source": [
    "df_time= dfr.groupby(['gene_id', 'cluster','model'])['cpu_time'].min().reset_index()\n",
    "df_time['not_nan']=1-np.isnan(df_time['cpu_time'])\n",
    "df_time['cnt']=df_time.groupby(['gene_id', 'cluster']).transform('sum')['not_nan']\n",
    "dfp=df_time[df_time['cnt']==7].copy()\n",
    "min_time = dfp.groupby('model').cpu_time.mean().min()\n",
    "dfp['cpu_time']=dfp['cpu_time']\n",
    "dfp.groupby('model').cpu_time.mean()"
   ]
  },
  {
   "cell_type": "code",
   "execution_count": 15,
   "id": "9fe9a59e",
   "metadata": {},
   "outputs": [
    {
     "data": {
      "image/png": "[encoded data removed]",
      "text/plain": [
       "<Figure size 1200x600 with 1 Axes>"
      ]
     },
     "metadata": {},
     "output_type": "display_data"
    }
   ],
   "source": [
    "fig, ax = plt.subplots(figsize=(12,6))\n",
    "sns.barplot(x=\"model\", y='cpu_time', data=dfp,ax=ax, errorbar=None, order=order)\n",
    "fig.suptitle('computing time', fontsize=15);\n",
    "ax.set_ylabel('');"
   ]
  },
  {
   "cell_type": "markdown",
   "id": "26b52a9c",
   "metadata": {},
   "source": [
    "## ZINB method compare\n",
    "\n",
    "TensorZINB achieves the highest log likelihood with the lowest computing time."
   ]
  },
  {
   "cell_type": "code",
   "execution_count": 16,
   "id": "234924c7",
   "metadata": {},
   "outputs": [
    {
     "data": {
      "text/plain": [
       "method\n",
       "stan          -12824.727643\n",
       "statsmodels   -13434.019255\n",
       "tensorflow    -12764.196961\n",
       "Name: llf, dtype: float64"
      ]
     },
     "execution_count": 16,
     "metadata": {},
     "output_type": "execute_result"
    }
   ],
   "source": [
    "df_zinb=dfr[dfr.model=='zinb'].copy()\n",
    "df_zinb['not_nan']=1-np.isnan(df_zinb['llf'])\n",
    "df_zinb['cnt']=df_zinb.groupby(['gene_id', 'cluster'])['not_nan'].transform('sum')\n",
    "df_zinb[df_zinb['cnt']==3].groupby(['method'])['llf'].mean()"
   ]
  },
  {
   "cell_type": "code",
   "execution_count": 17,
   "id": "af684bdf",
   "metadata": {},
   "outputs": [
    {
     "data": {
      "text/plain": [
       "method\n",
       "stan            5.234233\n",
       "statsmodels    21.187485\n",
       "tensorflow      0.821549\n",
       "Name: cpu_time, dtype: float64"
      ]
     },
     "execution_count": 17,
     "metadata": {},
     "output_type": "execute_result"
    }
   ],
   "source": [
    "df_zinb[df_zinb['cnt']==3].groupby(['method'])['cpu_time'].mean()"
   ]
  },
  {
   "cell_type": "markdown",
   "id": "c4962d7d",
   "metadata": {},
   "source": [
    "statsmodels fails to return results for most genes."
   ]
  },
  {
   "cell_type": "code",
   "execution_count": null,
   "id": "3f29af46",
   "metadata": {},
   "outputs": [],
   "source": []
  }
 ],
 "metadata": {
  "kernelspec": {
   "display_name": "Python 3 (ipykernel)",
   "language": "python",
   "name": "python3"
  },
  "language_info": {
   "codemirror_mode": {
    "name": "ipython",
    "version": 3
   },
   "file_extension": ".py",
   "mimetype": "text/x-python",
   "name": "python",
   "nbconvert_exporter": "python",
   "pygments_lexer": "ipython3",
   "version": "3.9.13"
  }
 },
 "nbformat": 4,
 "nbformat_minor": 5
}
