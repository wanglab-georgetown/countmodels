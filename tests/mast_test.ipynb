{
 "cells": [
  {
   "cell_type": "markdown",
   "id": "ec757608",
   "metadata": {},
   "source": [
    "# MAST Model Test\n",
    "This shows that Python MAST implementation is identical to the original R MAST when hurdle and normal parts use the same features."
   ]
  },
  {
   "cell_type": "code",
   "execution_count": 1,
   "id": "36474b0d",
   "metadata": {},
   "outputs": [],
   "source": [
    "import sys\n",
    "sys.path.append(\"..\")\n",
    "from models.mast import MAST\n",
    "from models.nb import NB\n",
    "sys.path.remove(\"..\")\n",
    "\n",
    "import numpy as np"
   ]
  },
  {
   "cell_type": "code",
   "execution_count": 2,
   "id": "67d5ebb6",
   "metadata": {},
   "outputs": [],
   "source": [
    "from scipy.stats import uniform, binom, nbinom\n",
    "import statsmodels.api as sm\n",
    "# Data\n",
    "np.random.seed(1)                   # set seed to replicate example\n",
    "nobs= 5000                         # number of obs in model \n",
    "\n",
    "x1 = binom.rvs(1, 0.6, size=nobs)   # categorical explanatory variable\n",
    "x2 = uniform.rvs(size=nobs)         # real explanatory variable\n",
    "\n",
    "theta = 0.5\n",
    "X = sm.add_constant(np.column_stack((x1, x2)))\n",
    "beta = [1.0, 2.0, -1.5]\n",
    "xb = np.dot(X, beta)          # linear predictor\n",
    "\n",
    "exb = np.exp(xb)\n",
    "nby = nbinom.rvs(exb, theta)\n",
    "\n",
    "X_infl=np.ones(nobs)\n",
    "\n",
    "scaler = np.ones(nobs)*3"
   ]
  },
  {
   "cell_type": "code",
   "execution_count": 3,
   "id": "f4001af3",
   "metadata": {},
   "outputs": [],
   "source": [
    "mod = MAST(nby,X,exog_infl=X,scaler=scaler)\n",
    "mod_nb = NB(nby,X,model_path='../models')"
   ]
  },
  {
   "cell_type": "code",
   "execution_count": 4,
   "id": "7103b0a1",
   "metadata": {
    "scrolled": false
   },
   "outputs": [],
   "source": [
    "res0=mod.fit(method='statsmodels')[0]\n",
    "res1=mod_nb.fit(method='stan',seed=1)[0]"
   ]
  },
  {
   "cell_type": "code",
   "execution_count": 5,
   "id": "1799b56e",
   "metadata": {},
   "outputs": [
    {
     "data": {
      "text/plain": [
       "{'params': array([ 1.59929214,  4.79999334, -2.43572328,  3.58253395,  2.11198413,\n",
       "        -1.87332867]),\n",
       " 'llf_logit': -1366.0177445897789,\n",
       " 'llf_normal_o': -4598.122493279009,\n",
       " 'llf_normal': -10594.874425053225,\n",
       " 'llf': -11960.892169643004,\n",
       " 'df': 6,\n",
       " 'aic': 23933.78433928601,\n",
       " 'cpu_time': 0.009446144104003906,\n",
       " 'model': 'mast',\n",
       " 'method': 'statsmodels'}"
      ]
     },
     "execution_count": 5,
     "metadata": {},
     "output_type": "execute_result"
    }
   ],
   "source": [
    "res0"
   ]
  },
  {
   "cell_type": "code",
   "execution_count": 6,
   "id": "41bddd0d",
   "metadata": {},
   "outputs": [
    {
     "data": {
      "text/plain": [
       "{'params': array([ 1.00448732,  2.02414839, -1.54176086,  2.19875645]),\n",
       " 'llf': -11802.47360156414,\n",
       " 'df': 4,\n",
       " 'aic': 23612.94720312828,\n",
       " 'cpu_time': 0.02042388916015625,\n",
       " 'model': 'nb',\n",
       " 'method': 'stan'}"
      ]
     },
     "execution_count": 6,
     "metadata": {},
     "output_type": "execute_result"
    }
   ],
   "source": [
    "res1"
   ]
  },
  {
   "cell_type": "code",
   "execution_count": 7,
   "id": "00988f6b",
   "metadata": {},
   "outputs": [
    {
     "data": {
      "text/plain": [
       "158.41856807886506"
      ]
     },
     "execution_count": 7,
     "metadata": {},
     "output_type": "execute_result"
    }
   ],
   "source": [
    "res1['llf']-res0['llf']"
   ]
  },
  {
   "cell_type": "markdown",
   "id": "03509dbe",
   "metadata": {},
   "source": [
    "As expected, MAST is worse than NB on a NB simulation dataset"
   ]
  },
  {
   "cell_type": "markdown",
   "id": "01606f6a",
   "metadata": {},
   "source": [
    "## Test init"
   ]
  },
  {
   "cell_type": "code",
   "execution_count": 8,
   "id": "2ed53924",
   "metadata": {},
   "outputs": [],
   "source": [
    "res2=mod.fit(method='statsmodels', start_params=res0['params'])[0]"
   ]
  },
  {
   "cell_type": "code",
   "execution_count": 9,
   "id": "3ca3bedb",
   "metadata": {},
   "outputs": [
    {
     "data": {
      "text/plain": [
       "{'params': array([ 1.59929214,  4.79999334, -2.43572328,  3.58253395,  2.11198413,\n",
       "        -1.87332867]),\n",
       " 'llf_logit': -1366.0177445897789,\n",
       " 'llf_normal_o': -4598.122493279009,\n",
       " 'llf_normal': -10594.874425053225,\n",
       " 'llf': -11960.892169643004,\n",
       " 'df': 6,\n",
       " 'aic': 23933.78433928601,\n",
       " 'cpu_time': 0.0015387535095214844,\n",
       " 'model': 'mast',\n",
       " 'method': 'statsmodels'}"
      ]
     },
     "execution_count": 9,
     "metadata": {},
     "output_type": "execute_result"
    }
   ],
   "source": [
    "res2"
   ]
  },
  {
   "cell_type": "markdown",
   "id": "127b3018",
   "metadata": {},
   "source": [
    "## Compare with MAST in R"
   ]
  },
  {
   "cell_type": "code",
   "execution_count": 10,
   "id": "d69963e4",
   "metadata": {},
   "outputs": [],
   "source": [
    "import anndata as ad\n",
    "import pandas as pd\n",
    "import rpy2"
   ]
  },
  {
   "cell_type": "code",
   "execution_count": 11,
   "id": "d21ebf79",
   "metadata": {},
   "outputs": [],
   "source": [
    "from scipy.stats import uniform, binom, nbinom\n",
    "import statsmodels.api as sm\n",
    "# Data\n",
    "np.random.seed(1)                   # set seed to replicate example\n",
    "nobs= 10000                         # number of obs in model \n",
    "\n",
    "x1 = binom.rvs(1, 0.6, size=nobs)   # categorical explanatory variable\n",
    "x2 = uniform.rvs(size=nobs)         # real explanatory variable\n",
    "\n",
    "theta = 0.5\n",
    "X = sm.add_constant(np.column_stack((x1, x2)))\n",
    "beta = [1.0, 2.0, -1.5]\n",
    "xb = np.dot(X, beta)          # linear predictor\n",
    "\n",
    "exb = np.exp(xb)\n",
    "\n",
    "scaler = uniform.rvs(size=nobs)*5\n",
    "\n",
    "n_out = 5\n",
    "Y_r=[]\n",
    "Y=[]\n",
    "for i in range(n_out):\n",
    "    nby = nbinom.rvs(exb, theta)\n",
    "    y = np.log2(1+nby*scaler).reshape((-1,1))\n",
    "    Y_r.append(y)\n",
    "    Y.append(nby)\n",
    "\n",
    "obs_names = ['c_{}'.format(i) for i in range(nobs)]\n",
    "f_names = ['f_{}'.format(i) for i in range(len(beta))]\n",
    "var_names = ['test{}'.format(i) for i in range(n_out)]\n",
    "\n",
    "df = pd.DataFrame(np.concatenate(Y_r,axis=1),columns=var_names).set_index([obs_names])\n",
    "dfx=pd.DataFrame(X,columns=f_names).set_index([obs_names])\n",
    "\n",
    "adata = ad.AnnData(df)\n",
    "adata.obs_names = obs_names\n",
    "adata.var_names = var_names\n",
    "adata.obs[f_names]=dfx\n",
    "adata.var['gene']=var_names"
   ]
  },
  {
   "cell_type": "code",
   "execution_count": 12,
   "id": "202bdc37",
   "metadata": {},
   "outputs": [],
   "source": [
    "# batch run\n",
    "mod = MAST(np.array(Y).T,X,exog_infl=X,scaler=scaler)\n",
    "res=mod.fit(method='statsmodels')\n",
    "ws_py=np.array([r['params'] for r in res])"
   ]
  },
  {
   "cell_type": "code",
   "execution_count": 13,
   "id": "f38a9eb6",
   "metadata": {},
   "outputs": [
    {
     "data": {
      "text/plain": [
       "array([[ 1.59880073,  4.55987341, -2.37068105,  3.1102041 ,  1.8905374 ,\n",
       "        -1.72431215],\n",
       "       [ 1.61578845,  4.54880483, -2.32088689,  3.12581285,  1.88931887,\n",
       "        -1.72877259],\n",
       "       [ 1.74699095,  4.71276117, -2.68971672,  3.10482235,  1.90692379,\n",
       "        -1.74868137],\n",
       "       [ 1.51575939,  4.69046664, -2.28989738,  3.08324527,  1.90829789,\n",
       "        -1.6826716 ],\n",
       "       [ 1.60648462,  4.76416127, -2.39974033,  3.11733033,  1.87007069,\n",
       "        -1.71223623]])"
      ]
     },
     "execution_count": 13,
     "metadata": {},
     "output_type": "execute_result"
    }
   ],
   "source": [
    "ws_py"
   ]
  },
  {
   "cell_type": "code",
   "execution_count": 14,
   "id": "983e2104",
   "metadata": {},
   "outputs": [
    {
     "name": "stderr",
     "output_type": "stream",
     "text": [
      "INFO:rpy2.situation:cffi mode is CFFI_MODE.ANY\n",
      "INFO:rpy2.situation:R home found: /Library/Frameworks/R.framework/Resources\n",
      "INFO:rpy2.situation:R library path: \n",
      "INFO:rpy2.situation:LD_LIBRARY_PATH: \n",
      "INFO:rpy2.rinterface_lib.embedded:Default options to initialize R: rpy2, --quiet, --no-save\n",
      "INFO:rpy2.rinterface_lib.embedded:R is already initialized. No need to initialize.\n"
     ]
    }
   ],
   "source": [
    "import anndata2ri\n",
    "anndata2ri.activate()"
   ]
  },
  {
   "cell_type": "code",
   "execution_count": 15,
   "id": "3605b6e5",
   "metadata": {},
   "outputs": [],
   "source": [
    "%load_ext rpy2.ipython"
   ]
  },
  {
   "cell_type": "code",
   "execution_count": 16,
   "id": "bc75e0ef",
   "metadata": {},
   "outputs": [
    {
     "name": "stderr",
     "output_type": "stream",
     "text": [
      "WARNING:rpy2.rinterface_lib.callbacks:R[write to console]: `fData` has no primerid.  I'll make something up.\n",
      "\n",
      "WARNING:rpy2.rinterface_lib.callbacks:R[write to console]: `cData` has no wellKey.  I'll make something up.\n",
      "\n",
      "WARNING:rpy2.rinterface_lib.callbacks:R[write to console]: \n",
      "Done!\n",
      "\n",
      "WARNING:rpy2.rinterface_lib.callbacks:R[write to console]: Combining coefficients and standard errors\n",
      "\n"
     ]
    }
   ],
   "source": [
    "%%R -i adata -o output\n",
    "library(MAST)\n",
    "sca = SceToSingleCellAssay(adata, class = \"SingleCellAssay\", check_sanity = FALSE)\n",
    "zlm.output <- zlm(~f_0+f_1+f_2, sca, method = \"glm\", ebayes=FALSE)\n",
    "output<-summary(zlm.output, logFC=FALSE)$datatable"
   ]
  },
  {
   "cell_type": "code",
   "execution_count": 17,
   "id": "4cc8fad5",
   "metadata": {},
   "outputs": [],
   "source": [
    "output=output.sort_values(by=['primerid', 'component'], ascending=[True, False])\n",
    "ws_R=output[(~pd.isnull(output['coef']))].coef.values.reshape((n_out,-1))"
   ]
  },
  {
   "cell_type": "code",
   "execution_count": 18,
   "id": "1d22d9d1",
   "metadata": {},
   "outputs": [
    {
     "data": {
      "text/plain": [
       "array([[ 1.59880073,  4.55987341, -2.37068105,  3.1102041 ,  1.8905374 ,\n",
       "        -1.72431215],\n",
       "       [ 1.61578845,  4.54880483, -2.32088689,  3.12581285,  1.88931887,\n",
       "        -1.72877259],\n",
       "       [ 1.74699095,  4.71276117, -2.68971672,  3.10482235,  1.90692379,\n",
       "        -1.74868137],\n",
       "       [ 1.51575939,  4.69046664, -2.28989738,  3.08324527,  1.90829789,\n",
       "        -1.6826716 ],\n",
       "       [ 1.60648462,  4.76416127, -2.39974033,  3.11733033,  1.87007069,\n",
       "        -1.71223623]])"
      ]
     },
     "execution_count": 18,
     "metadata": {},
     "output_type": "execute_result"
    }
   ],
   "source": [
    "ws_py"
   ]
  },
  {
   "cell_type": "code",
   "execution_count": 19,
   "id": "fe10a10c",
   "metadata": {},
   "outputs": [
    {
     "data": {
      "text/plain": [
       "array([[ 1.59880073,  4.55987341, -2.37068105,  3.1102041 ,  1.8905374 ,\n",
       "        -1.72431215],\n",
       "       [ 1.61578845,  4.54880482, -2.32088689,  3.12581285,  1.88931887,\n",
       "        -1.72877259],\n",
       "       [ 1.74699095,  4.71276115, -2.68971672,  3.10482235,  1.90692379,\n",
       "        -1.74868137],\n",
       "       [ 1.51575939,  4.69046663, -2.28989738,  3.08324527,  1.90829789,\n",
       "        -1.6826716 ],\n",
       "       [ 1.60648462,  4.76416122, -2.39974033,  3.11733033,  1.87007069,\n",
       "        -1.71223623]])"
      ]
     },
     "execution_count": 19,
     "metadata": {},
     "output_type": "execute_result"
    }
   ],
   "source": [
    "ws_R"
   ]
  },
  {
   "cell_type": "code",
   "execution_count": 20,
   "id": "728a58fd",
   "metadata": {},
   "outputs": [
    {
     "data": {
      "text/plain": [
       "9.719137450403537e-08"
      ]
     },
     "execution_count": 20,
     "metadata": {},
     "output_type": "execute_result"
    }
   ],
   "source": [
    "np.sum(np.abs(ws_py-ws_R))"
   ]
  },
  {
   "cell_type": "markdown",
   "id": "ce124d6d",
   "metadata": {},
   "source": [
    "this shows that Python MAST implementation returns identical results as the original R implementation"
   ]
  },
  {
   "cell_type": "code",
   "execution_count": null,
   "id": "c82b3021",
   "metadata": {},
   "outputs": [],
   "source": []
  }
 ],
 "metadata": {
  "kernelspec": {
   "display_name": "Python 3 (ipykernel)",
   "language": "python",
   "name": "python3"
  },
  "language_info": {
   "codemirror_mode": {
    "name": "ipython",
    "version": 3
   },
   "file_extension": ".py",
   "mimetype": "text/x-python",
   "name": "python",
   "nbconvert_exporter": "python",
   "pygments_lexer": "ipython3",
   "version": "3.9.13"
  }
 },
 "nbformat": 4,
 "nbformat_minor": 5
}
