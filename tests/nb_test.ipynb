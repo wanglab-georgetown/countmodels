{
 "cells": [
  {
   "cell_type": "markdown",
   "id": "f7243ef8",
   "metadata": {},
   "source": [
    "# Negative Binomial Model Test\n",
    "This shows that stan, statsmodels and tensorflow have very close results on a simulation dataset."
   ]
  },
  {
   "cell_type": "code",
   "execution_count": 1,
   "id": "de0dc6d4",
   "metadata": {},
   "outputs": [],
   "source": [
    "import sys\n",
    "sys.path.append(\"..\")\n",
    "from models.nb import NB\n",
    "sys.path.remove(\"..\")\n",
    "\n",
    "import numpy as np"
   ]
  },
  {
   "cell_type": "markdown",
   "id": "f089f60d",
   "metadata": {},
   "source": [
    "- stan neg_binomial_2_lpmf( k | mu, phi): $(\\mu/(\\mu+\\phi))^k(\\phi/(\\phi+\\mu))^\\phi$  \n",
    "mean $\\mu$, variance $\\mu+\\mu^2/\\phi$\n",
    "\n",
    "- scipy f(k)=nbinom.pmf(k, n, p)  $p^n(1-p)^k$,  \n",
    "mean $n(1-p)/p$, variance $n(1-p)/p^2$  \n",
    "scipy: $n=\\phi$, $p=\\phi/(\\phi+\\mu)$\n",
    "\n",
    "- statsmodel: Variance equal to $\\mu + \\alpha \\mu^2$  \n",
    "statsmodel: $\\alpha=1/\\phi$\n",
    "\n",
    "\n",
    "<!-- https://mc-stan.org/docs/2_20/functions-reference/negative-binomial-distribution.html\n",
    "\n",
    "- stan neg_binomial_lpmf( k | alpha, beta): $(b/(1+b))^a(1/(b+1))^k$, $a/b$, $a/b^2(b+1)$\n",
    "\n",
    "1-p=1/(b+1), p=b/(b+1), b=1/(1-p)-1=p/(1-p)=alpha, a=\n",
    "\n",
    "\n",
    "\n",
    "a=n=exb=np.exp(X*beta) -->"
   ]
  },
  {
   "cell_type": "code",
   "execution_count": 2,
   "id": "3d82ad8b",
   "metadata": {},
   "outputs": [],
   "source": [
    "from scipy.stats import uniform, binom, nbinom\n",
    "import statsmodels.api as sm\n",
    "# Data\n",
    "np.random.seed(1)                   # set seed to replicate example\n",
    "nobs= 25000                         # number of obs in model \n",
    "\n",
    "x1 = binom.rvs(1, 0.6, size=nobs)   # categorical explanatory variable\n",
    "x2 = uniform.rvs(size=nobs)         # real explanatory variable\n",
    "\n",
    "phi = 2\n",
    "X = sm.add_constant(np.column_stack((x1, x2)))\n",
    "beta = [1.0, 2.0, -1.5]\n",
    "xb = np.dot(X, beta)          # linear predictor\n",
    "\n",
    "exb = np.exp(xb)\n",
    "nby = nbinom.rvs(phi, phi/(phi+exb))"
   ]
  },
  {
   "cell_type": "code",
   "execution_count": 3,
   "id": "316a4390",
   "metadata": {},
   "outputs": [],
   "source": [
    "mod = NB(nby,X,model_path='../models')"
   ]
  },
  {
   "cell_type": "code",
   "execution_count": 4,
   "id": "2e55f7d1",
   "metadata": {},
   "outputs": [],
   "source": [
    "res0=mod.fit(method='stan')[0]\n",
    "res1=mod.fit(method='statsmodels')[0]"
   ]
  },
  {
   "cell_type": "markdown",
   "id": "1e9ab960",
   "metadata": {},
   "source": [
    "true value"
   ]
  },
  {
   "cell_type": "code",
   "execution_count": 5,
   "id": "bbbec5ab",
   "metadata": {},
   "outputs": [
    {
     "data": {
      "text/plain": [
       "[1.0, 2.0, -1.5, 0.6931471805599453]"
      ]
     },
     "execution_count": 5,
     "metadata": {},
     "output_type": "execute_result"
    }
   ],
   "source": [
    "list(beta)+[np.log(phi)]"
   ]
  },
  {
   "cell_type": "code",
   "execution_count": 6,
   "id": "3c6c300b",
   "metadata": {},
   "outputs": [
    {
     "data": {
      "text/plain": [
       "{'params': array([ 0.99024041,  2.02096156, -1.51659043,  0.72168813]),\n",
       " 'llf': -63877.57939102553,\n",
       " 'df': 4,\n",
       " 'aic': 127763.15878205106,\n",
       " 'cpu_time': 0.04229402542114258,\n",
       " 'model': 'nb',\n",
       " 'method': 'stan'}"
      ]
     },
     "execution_count": 6,
     "metadata": {},
     "output_type": "execute_result"
    }
   ],
   "source": [
    "res0"
   ]
  },
  {
   "cell_type": "code",
   "execution_count": 7,
   "id": "d7d762ba",
   "metadata": {},
   "outputs": [
    {
     "data": {
      "text/plain": [
       "{'params': array([ 0.99076403,  2.01915745, -1.51463773,  0.4859298 ]),\n",
       " 'llf': -63877.565523685655,\n",
       " 'df': 4,\n",
       " 'aic': 127763.13104737131,\n",
       " 'cpu_time': 0.12883687019348145,\n",
       " 'model': 'nb',\n",
       " 'method': 'statsmodels'}"
      ]
     },
     "execution_count": 7,
     "metadata": {},
     "output_type": "execute_result"
    }
   ],
   "source": [
    "res1"
   ]
  },
  {
   "cell_type": "code",
   "execution_count": 8,
   "id": "45c04523",
   "metadata": {},
   "outputs": [
    {
     "data": {
      "text/plain": [
       "0.9999970166858148"
      ]
     },
     "execution_count": 8,
     "metadata": {},
     "output_type": "execute_result"
    }
   ],
   "source": [
    "np.exp(res0['params'][-1])*res1['params'][-1]"
   ]
  },
  {
   "cell_type": "code",
   "execution_count": 9,
   "id": "d300a4c5",
   "metadata": {},
   "outputs": [
    {
     "data": {
      "text/plain": [
       "-0.01386733987601474"
      ]
     },
     "execution_count": 9,
     "metadata": {},
     "output_type": "execute_result"
    }
   ],
   "source": [
    "res0['llf']-res1['llf']"
   ]
  },
  {
   "cell_type": "markdown",
   "id": "cd0c5be9",
   "metadata": {},
   "source": [
    "statsmodels and stan have almost identical results"
   ]
  },
  {
   "cell_type": "code",
   "execution_count": 10,
   "id": "e7da66b6",
   "metadata": {},
   "outputs": [
    {
     "name": "stdout",
     "output_type": "stream",
     "text": [
      "Metal device set to: Apple M2\n"
     ]
    }
   ],
   "source": [
    "res2=mod.fit(method='tensorflow')[0]"
   ]
  },
  {
   "cell_type": "code",
   "execution_count": 11,
   "id": "0d9abf97",
   "metadata": {},
   "outputs": [
    {
     "data": {
      "text/plain": [
       "{'params': array([ 0.9905465,  2.0188916, -1.5149263,  0.722409 ], dtype=float32),\n",
       " 'llf': -63877.563322783215,\n",
       " 'aic': 127763.12664556643,\n",
       " 'df': 4,\n",
       " 'cpu_time': 0.7581839561462402,\n",
       " 'model': 'nb',\n",
       " 'method': 'tensorflow'}"
      ]
     },
     "execution_count": 11,
     "metadata": {},
     "output_type": "execute_result"
    }
   ],
   "source": [
    "res2"
   ]
  },
  {
   "cell_type": "code",
   "execution_count": 12,
   "id": "74b830dc",
   "metadata": {},
   "outputs": [
    {
     "data": {
      "text/plain": [
       "array([-0.00030611,  0.00206999, -0.00166411, -0.00072088])"
      ]
     },
     "execution_count": 12,
     "metadata": {},
     "output_type": "execute_result"
    }
   ],
   "source": [
    "res0['params']-res2['params']"
   ]
  },
  {
   "cell_type": "code",
   "execution_count": 13,
   "id": "2f3c6e20",
   "metadata": {},
   "outputs": [
    {
     "data": {
      "text/plain": [
       "0.016068242315668613"
      ]
     },
     "execution_count": 13,
     "metadata": {},
     "output_type": "execute_result"
    }
   ],
   "source": [
    "res2['llf']-res0['llf']"
   ]
  },
  {
   "cell_type": "markdown",
   "id": "116a7f93",
   "metadata": {},
   "source": [
    "tensorflow and stan have almost identical results"
   ]
  },
  {
   "cell_type": "markdown",
   "id": "9e8a2d6b",
   "metadata": {},
   "source": [
    "## Test init"
   ]
  },
  {
   "cell_type": "code",
   "execution_count": 14,
   "id": "74ff0b55",
   "metadata": {},
   "outputs": [],
   "source": [
    "res2=mod.fit(method='stan',start_params=res0['params'])[0]\n",
    "res3=mod.fit(method='statsmodels',start_params=res1['params'])[0]\n",
    "res4=mod.fit(method='tensorflow',start_params=res0['params'])[0]"
   ]
  },
  {
   "cell_type": "code",
   "execution_count": 15,
   "id": "c6ebbb25",
   "metadata": {},
   "outputs": [
    {
     "data": {
      "text/plain": [
       "{'params': array([ 0.99060508,  2.01942683, -1.51559369,  0.72163642]),\n",
       " 'llf': -63877.56952288757,\n",
       " 'df': 4,\n",
       " 'aic': 127763.13904577514,\n",
       " 'cpu_time': 0.045738935470581055,\n",
       " 'model': 'nb',\n",
       " 'method': 'stan'}"
      ]
     },
     "execution_count": 15,
     "metadata": {},
     "output_type": "execute_result"
    }
   ],
   "source": [
    "res2"
   ]
  },
  {
   "cell_type": "code",
   "execution_count": 16,
   "id": "797a715f",
   "metadata": {},
   "outputs": [
    {
     "data": {
      "text/plain": [
       "{'params': array([ 0.99076403,  2.01915745, -1.51463773,  0.4859298 ]),\n",
       " 'llf': -63877.565523685655,\n",
       " 'df': 4,\n",
       " 'aic': 127763.13104737131,\n",
       " 'cpu_time': 0.012965917587280273,\n",
       " 'model': 'nb',\n",
       " 'method': 'statsmodels'}"
      ]
     },
     "execution_count": 16,
     "metadata": {},
     "output_type": "execute_result"
    }
   ],
   "source": [
    "res3"
   ]
  },
  {
   "cell_type": "code",
   "execution_count": 17,
   "id": "1ea05bd6",
   "metadata": {},
   "outputs": [
    {
     "data": {
      "text/plain": [
       "{'params': array([ 0.99146074,  2.0195456 , -1.5143238 ,  0.71850574], dtype=float32),\n",
       " 'llf': -63877.625822783215,\n",
       " 'aic': 127763.25164556643,\n",
       " 'df': 4,\n",
       " 'cpu_time': 0.23302030563354492,\n",
       " 'model': 'nb',\n",
       " 'method': 'tensorflow'}"
      ]
     },
     "execution_count": 17,
     "metadata": {},
     "output_type": "execute_result"
    }
   ],
   "source": [
    "res4"
   ]
  },
  {
   "cell_type": "code",
   "execution_count": 18,
   "id": "8fd0a502",
   "metadata": {},
   "outputs": [],
   "source": [
    "mod = NB(np.array([nby,nby]).T,X,model_path='../models')"
   ]
  },
  {
   "cell_type": "code",
   "execution_count": 19,
   "id": "a2a29311",
   "metadata": {},
   "outputs": [],
   "source": [
    "res5=mod.fit(method='tensorflow',start_params=res0['params'])\n",
    "res6=mod.fit(method='tensorflow',start_params=[r['params'] for r in res5])\n",
    "res7=mod.fit(method='stan',start_params=[r['params'] for r in res5])"
   ]
  },
  {
   "cell_type": "code",
   "execution_count": 20,
   "id": "94d85eb4",
   "metadata": {},
   "outputs": [
    {
     "data": {
      "text/plain": [
       "[{'params': array([ 0.9910591 ,  2.0194516 , -1.5143504 ,  0.72110856], dtype=float32),\n",
       "  'llf': -63879.750822783215,\n",
       "  'aic': 127767.50164556643,\n",
       "  'df': 4,\n",
       "  'cpu_time': 0.15061652660369873,\n",
       "  'model': 'nb',\n",
       "  'method': 'tensorflow'},\n",
       " {'params': array([ 0.9910591 ,  2.0194516 , -1.5143504 ,  0.72110856], dtype=float32),\n",
       "  'llf': -63879.750822783215,\n",
       "  'aic': 127767.50164556643,\n",
       "  'df': 4,\n",
       "  'cpu_time': 0.15061652660369873,\n",
       "  'model': 'nb',\n",
       "  'method': 'tensorflow'}]"
      ]
     },
     "execution_count": 20,
     "metadata": {},
     "output_type": "execute_result"
    }
   ],
   "source": [
    "res5"
   ]
  },
  {
   "cell_type": "code",
   "execution_count": 21,
   "id": "002848bd",
   "metadata": {},
   "outputs": [
    {
     "data": {
      "text/plain": [
       "[{'params': array([ 0.99007946,  2.018473  , -1.5153286 ,  0.72096896], dtype=float32),\n",
       "  'llf': -63878.938322783215,\n",
       "  'aic': 127765.87664556643,\n",
       "  'df': 4,\n",
       "  'cpu_time': 0.1254035234451294,\n",
       "  'model': 'nb',\n",
       "  'method': 'tensorflow'},\n",
       " {'params': array([ 0.99007946,  2.018473  , -1.5153286 ,  0.72096896], dtype=float32),\n",
       "  'llf': -63878.938322783215,\n",
       "  'aic': 127765.87664556643,\n",
       "  'df': 4,\n",
       "  'cpu_time': 0.1254035234451294,\n",
       "  'model': 'nb',\n",
       "  'method': 'tensorflow'}]"
      ]
     },
     "execution_count": 21,
     "metadata": {},
     "output_type": "execute_result"
    }
   ],
   "source": [
    "res6"
   ]
  },
  {
   "cell_type": "code",
   "execution_count": 22,
   "id": "0f0cd85a",
   "metadata": {},
   "outputs": [
    {
     "data": {
      "text/plain": [
       "[{'params': array([ 0.99071271,  2.01915828, -1.51452891,  0.72169065]),\n",
       "  'llf': -63877.56554087238,\n",
       "  'df': 4,\n",
       "  'aic': 127763.13108174477,\n",
       "  'cpu_time': 0.04932117462158203,\n",
       "  'model': 'nb',\n",
       "  'method': 'stan'},\n",
       " {'params': array([ 0.99071271,  2.01915828, -1.51452891,  0.72169065]),\n",
       "  'llf': -63877.56554087238,\n",
       "  'df': 4,\n",
       "  'aic': 127763.13108174477,\n",
       "  'cpu_time': 0.04902005195617676,\n",
       "  'model': 'nb',\n",
       "  'method': 'stan'}]"
      ]
     },
     "execution_count": 22,
     "metadata": {},
     "output_type": "execute_result"
    }
   ],
   "source": [
    "res7"
   ]
  },
  {
   "cell_type": "code",
   "execution_count": null,
   "id": "cd61c2ff",
   "metadata": {},
   "outputs": [],
   "source": []
  }
 ],
 "metadata": {
  "kernelspec": {
   "display_name": "Python 3 (ipykernel)",
   "language": "python",
   "name": "python3"
  },
  "language_info": {
   "codemirror_mode": {
    "name": "ipython",
    "version": 3
   },
   "file_extension": ".py",
   "mimetype": "text/x-python",
   "name": "python",
   "nbconvert_exporter": "python",
   "pygments_lexer": "ipython3",
   "version": "3.9.13"
  }
 },
 "nbformat": 4,
 "nbformat_minor": 5
}
