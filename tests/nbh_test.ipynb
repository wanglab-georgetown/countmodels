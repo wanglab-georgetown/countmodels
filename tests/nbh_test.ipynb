{
 "cells": [
  {
   "cell_type": "markdown",
   "id": "c87cf02b",
   "metadata": {},
   "source": [
    "# Negative Binomial Hurdle Model Test\n",
    "This shows that stan and statsmodels have close results on a simulation dataset. This cross validates stan and statsmodels negative binomial hurdle model implementation. However, on some sample data, statsmodels cannot return log likelihood indicating numerical stability issues."
   ]
  },
  {
   "cell_type": "code",
   "execution_count": 1,
   "id": "57153921",
   "metadata": {},
   "outputs": [],
   "source": [
    "import sys\n",
    "sys.path.append(\"..\")\n",
    "from models.nbh import NBH\n",
    "sys.path.remove(\"..\")\n",
    "\n",
    "import numpy as np"
   ]
  },
  {
   "cell_type": "code",
   "execution_count": 2,
   "id": "40478eb8",
   "metadata": {},
   "outputs": [],
   "source": [
    "def gen_posnb(mu,theta):\n",
    "    k=1000\n",
    "    while k>0:\n",
    "        v=nbinom.rvs(mu, theta)\n",
    "        if v>0:\n",
    "            return v\n",
    "        k=k-1\n",
    "    return 0"
   ]
  },
  {
   "cell_type": "code",
   "execution_count": 3,
   "id": "92daf978",
   "metadata": {},
   "outputs": [],
   "source": [
    "from scipy.stats import uniform, binom, poisson, bernoulli, norm, nbinom\n",
    "import statsmodels.api as sm\n",
    "\n",
    "np.random.seed(1)                    # set seed to replicate example\n",
    "nobs= 20000                          # number of obs in model \n",
    "\n",
    "x1 = binom.rvs(1, 0.7, size=nobs)\n",
    "x2 = norm.rvs(loc=0, scale=1.0, size=nobs)\n",
    "\n",
    "X = sm.add_constant(x1)\n",
    "X_infl = X\n",
    "\n",
    "beta = [1.0, -0.5]\n",
    "xb = np.dot(X, beta)          # linear predictor\n",
    "\n",
    "betal = [1.0, -0.3]\n",
    "xl = np.dot(X, betal)         # linear predictor\n",
    "\n",
    "exb = np.exp(xb)\n",
    "exc = 1.0 / (1.0 + np.exp(-xl))\n",
    "\n",
    "phi = 2\n",
    "\n",
    "p = bernoulli.rvs(exc)\n",
    "\n",
    "phy=np.zeros(nobs)\n",
    "for i in range(nobs):\n",
    "    if p[i]>0:\n",
    "        v = gen_posnb(phi, phi/(phi+exb[i]))\n",
    "        phy[i]=v"
   ]
  },
  {
   "cell_type": "code",
   "execution_count": 4,
   "id": "c413cb3c",
   "metadata": {},
   "outputs": [],
   "source": [
    "mod = NBH(phy,X,exog_infl=X_infl,model_path='../models')"
   ]
  },
  {
   "cell_type": "code",
   "execution_count": 5,
   "id": "9c6c3b22",
   "metadata": {},
   "outputs": [],
   "source": [
    "res0=mod.fit(method='stan')[0]\n",
    "res1=mod.fit(method='statsmodels')[0]"
   ]
  },
  {
   "cell_type": "markdown",
   "id": "11aa0482",
   "metadata": {},
   "source": [
    "true value of parameters"
   ]
  },
  {
   "cell_type": "code",
   "execution_count": 6,
   "id": "58071110",
   "metadata": {},
   "outputs": [
    {
     "data": {
      "text/plain": [
       "[1.0, -0.3, 1.0, -0.5, 2]"
      ]
     },
     "execution_count": 6,
     "metadata": {},
     "output_type": "execute_result"
    }
   ],
   "source": [
    "betal + beta + [phi]"
   ]
  },
  {
   "cell_type": "code",
   "execution_count": 7,
   "id": "d4b683e7",
   "metadata": {},
   "outputs": [
    {
     "data": {
      "text/plain": [
       "{'params': array([ 1.01770332, -0.31303515,  0.98384227, -0.4842688 ,  0.65985188]),\n",
       " 'llf_logit': -12356.0791674436,\n",
       " 'llf_poi': -23919.290889840042,\n",
       " 'llf': -36275.37005728364,\n",
       " 'df': 5,\n",
       " 'aic': 72560.74011456728,\n",
       " 'cpu_time': 8.004539251327515,\n",
       " 'model': 'nbh',\n",
       " 'method': 'stan'}"
      ]
     },
     "execution_count": 7,
     "metadata": {},
     "output_type": "execute_result"
    }
   ],
   "source": [
    "res0"
   ]
  },
  {
   "cell_type": "code",
   "execution_count": 8,
   "id": "d3ee827c",
   "metadata": {},
   "outputs": [
    {
     "data": {
      "text/plain": [
       "{'params': array([ 1.01770332, -0.31303515,  0.98384357, -0.48427031,  0.5169239 ]),\n",
       " 'llf_logit': -12356.0791674436,\n",
       " 'llf_nb': -23919.290889812364,\n",
       " 'llf': -36275.37005725596,\n",
       " 'df': 5,\n",
       " 'aic': 72560.74011451192,\n",
       " 'cpu_time': 0.48662805557250977,\n",
       " 'model': 'nbh',\n",
       " 'method': 'statsmodels'}"
      ]
     },
     "execution_count": 8,
     "metadata": {},
     "output_type": "execute_result"
    }
   ],
   "source": [
    "res1"
   ]
  },
  {
   "cell_type": "code",
   "execution_count": 9,
   "id": "70f9802a",
   "metadata": {},
   "outputs": [
    {
     "data": {
      "text/plain": [
       "-2.7677742764353752e-08"
      ]
     },
     "execution_count": 9,
     "metadata": {},
     "output_type": "execute_result"
    }
   ],
   "source": [
    "res0['llf']-res1['llf']"
   ]
  },
  {
   "cell_type": "code",
   "execution_count": 10,
   "id": "c9963032",
   "metadata": {},
   "outputs": [
    {
     "data": {
      "text/plain": [
       "{'params': array([ 1.01770332, -0.31303515,  0.98384357, -0.48427031,  0.5169239 ]),\n",
       " 'llf_logit': -12356.0791674436,\n",
       " 'llf_nb': -23919.290889812364,\n",
       " 'llf': -36275.37005725596,\n",
       " 'df': 5,\n",
       " 'aic': 72560.74011451192,\n",
       " 'cpu_time': 0.605189323425293,\n",
       " 'model': 'nbh',\n",
       " 'method': 'statsmodels'}"
      ]
     },
     "execution_count": 10,
     "metadata": {},
     "output_type": "execute_result"
    }
   ],
   "source": [
    "mod.fit_fast()[0]"
   ]
  },
  {
   "cell_type": "markdown",
   "id": "d309e657",
   "metadata": {},
   "source": [
    "statsmodels and stan return the same results."
   ]
  },
  {
   "cell_type": "code",
   "execution_count": 11,
   "id": "62b2430c",
   "metadata": {},
   "outputs": [],
   "source": [
    "from scipy.stats import uniform, binom, poisson, bernoulli, norm, nbinom\n",
    "import statsmodels.api as sm\n",
    "\n",
    "np.random.seed(1)                    # set seed to replicate example\n",
    "nobs= 20000                          # number of obs in model \n",
    "\n",
    "x1 = binom.rvs(1, 0.7, size=nobs)\n",
    "x2 = norm.rvs(loc=0, scale=1.0, size=nobs)\n",
    "\n",
    "X = sm.add_constant(x1)\n",
    "X_infl = X\n",
    "\n",
    "beta = [1.0, -0.5]\n",
    "xb = np.dot(X, beta)          # linear predictor\n",
    "\n",
    "betal = [1.0, -0.3]\n",
    "xl = np.dot(X, betal)         # linear predictor\n",
    "\n",
    "exb = np.exp(xb)\n",
    "exc = 1.0 / (1.0 + np.exp(-xl))\n",
    "\n",
    "theta = 0.7\n",
    "\n",
    "p = bernoulli.rvs(exc)\n",
    "\n",
    "phy=np.zeros(nobs)\n",
    "for i in range(nobs):\n",
    "    if p[i]>0:\n",
    "        v = gen_posnb(exb[i],theta)\n",
    "        phy[i]=v"
   ]
  },
  {
   "cell_type": "code",
   "execution_count": 12,
   "id": "d72c8116",
   "metadata": {},
   "outputs": [],
   "source": [
    "mod = NBH(phy,X,exog_infl=X_infl,model_path='../models')"
   ]
  },
  {
   "cell_type": "code",
   "execution_count": 13,
   "id": "ea242740",
   "metadata": {},
   "outputs": [
    {
     "name": "stderr",
     "output_type": "stream",
     "text": [
      "/Users/taocui/anaconda3/envs/tf1/lib/python3.9/site-packages/statsmodels/discrete/discrete_model.py:3935: RuntimeWarning: invalid value encountered in log\n",
      "  a1 * np.log(a1) + y * np.log(mu) -\n",
      "/Users/taocui/anaconda3/envs/tf1/lib/python3.9/site-packages/statsmodels/discrete/discrete_model.py:3936: RuntimeWarning: invalid value encountered in log\n",
      "  (y + a1) * np.log(a2))\n"
     ]
    }
   ],
   "source": [
    "res0=mod.fit(method='stan')[0]\n",
    "res1=mod.fit(method='statsmodels')[0]"
   ]
  },
  {
   "cell_type": "code",
   "execution_count": 14,
   "id": "6f51121b",
   "metadata": {},
   "outputs": [
    {
     "data": {
      "text/plain": [
       "{'params': array([ 1.01770332, -0.31303515,  0.09015164, -0.38924294,  0.65576306]),\n",
       " 'llf_logit': -12356.0791674436,\n",
       " 'llf_poi': -15574.612655664663,\n",
       " 'llf': -27930.691823108264,\n",
       " 'df': 5,\n",
       " 'aic': 55871.38364621653,\n",
       " 'cpu_time': 16.279569149017334,\n",
       " 'model': 'nbh',\n",
       " 'method': 'stan'}"
      ]
     },
     "execution_count": 14,
     "metadata": {},
     "output_type": "execute_result"
    }
   ],
   "source": [
    "res0"
   ]
  },
  {
   "cell_type": "code",
   "execution_count": 15,
   "id": "8dcdcbac",
   "metadata": {},
   "outputs": [
    {
     "data": {
      "text/plain": [
       "{'params': array([ 1.01770332, -0.31303515,  0.63552475, -0.17099588, -0.1263608 ]),\n",
       " 'llf_logit': -12356.0791674436,\n",
       " 'llf_nb': nan,\n",
       " 'llf': nan,\n",
       " 'df': 5,\n",
       " 'aic': nan,\n",
       " 'cpu_time': 0.20600104331970215,\n",
       " 'model': 'nbh',\n",
       " 'method': 'statsmodels'}"
      ]
     },
     "execution_count": 15,
     "metadata": {},
     "output_type": "execute_result"
    }
   ],
   "source": [
    "res1"
   ]
  },
  {
   "cell_type": "code",
   "execution_count": 16,
   "id": "0bacdbab",
   "metadata": {},
   "outputs": [
    {
     "data": {
      "text/plain": [
       "nan"
      ]
     },
     "execution_count": 16,
     "metadata": {},
     "output_type": "execute_result"
    }
   ],
   "source": [
    "res0['llf']-res1['llf']"
   ]
  },
  {
   "cell_type": "code",
   "execution_count": 17,
   "id": "53c4281c",
   "metadata": {},
   "outputs": [
    {
     "name": "stderr",
     "output_type": "stream",
     "text": [
      "/Users/taocui/anaconda3/envs/tf1/lib/python3.9/site-packages/statsmodels/discrete/discrete_model.py:3935: RuntimeWarning: invalid value encountered in log\n",
      "  a1 * np.log(a1) + y * np.log(mu) -\n",
      "/Users/taocui/anaconda3/envs/tf1/lib/python3.9/site-packages/statsmodels/discrete/discrete_model.py:3936: RuntimeWarning: invalid value encountered in log\n",
      "  (y + a1) * np.log(a2))\n"
     ]
    },
    {
     "data": {
      "text/plain": [
       "{'params': array([ 1.01770332, -0.31303515,  0.09015164, -0.38924294,  0.65576306]),\n",
       " 'llf_logit': -12356.0791674436,\n",
       " 'llf_poi': -15574.612655664663,\n",
       " 'llf': -27930.691823108264,\n",
       " 'df': 5,\n",
       " 'aic': 55871.38364621653,\n",
       " 'cpu_time': 16.256245851516724,\n",
       " 'model': 'nbh',\n",
       " 'method': 'stan'}"
      ]
     },
     "execution_count": 17,
     "metadata": {},
     "output_type": "execute_result"
    }
   ],
   "source": [
    "mod.fit_fast()[0]"
   ]
  },
  {
   "cell_type": "markdown",
   "id": "28f9fee0",
   "metadata": {},
   "source": [
    "statsmodels incurs numerical errors on a slightly modified simulation dataset."
   ]
  },
  {
   "cell_type": "markdown",
   "id": "584e86a7",
   "metadata": {},
   "source": [
    "## Test init"
   ]
  },
  {
   "cell_type": "code",
   "execution_count": 18,
   "id": "f22cb264",
   "metadata": {},
   "outputs": [],
   "source": [
    "res2=mod.fit(method='stan',start_params=res0['params'])[0]\n",
    "start_params = res0['params']\n",
    "start_params[-1]=np.exp(-start_params[-1])\n",
    "res3=mod.fit(method='statsmodels',start_params=start_params)[0]"
   ]
  },
  {
   "cell_type": "code",
   "execution_count": 19,
   "id": "14ed8b35",
   "metadata": {},
   "outputs": [
    {
     "data": {
      "text/plain": [
       "{'params': array([ 1.01770332, -0.31303515,  0.09014993, -0.38924401,  0.65576353]),\n",
       " 'llf_logit': -12356.0791674436,\n",
       " 'llf_poi': -15574.612655638848,\n",
       " 'llf': -27930.69182308245,\n",
       " 'df': 5,\n",
       " 'aic': 55871.3836461649,\n",
       " 'cpu_time': 0.3261837959289551,\n",
       " 'model': 'nbh',\n",
       " 'method': 'stan'}"
      ]
     },
     "execution_count": 19,
     "metadata": {},
     "output_type": "execute_result"
    }
   ],
   "source": [
    "res2"
   ]
  },
  {
   "cell_type": "code",
   "execution_count": 20,
   "id": "3039aa4f",
   "metadata": {},
   "outputs": [
    {
     "data": {
      "text/plain": [
       "{'params': array([ 1.01770332, -0.31303515,  0.09015164, -0.38924294,  0.51904585]),\n",
       " 'llf_logit': -12356.0791674436,\n",
       " 'llf_nb': -15574.612655662473,\n",
       " 'llf': -27930.691823106074,\n",
       " 'df': 5,\n",
       " 'aic': 55871.38364621215,\n",
       " 'cpu_time': 0.1715700626373291,\n",
       " 'model': 'nbh',\n",
       " 'method': 'statsmodels'}"
      ]
     },
     "execution_count": 20,
     "metadata": {},
     "output_type": "execute_result"
    }
   ],
   "source": [
    "res3"
   ]
  },
  {
   "cell_type": "code",
   "execution_count": 21,
   "id": "fb63fe9e",
   "metadata": {},
   "outputs": [
    {
     "data": {
      "text/plain": [
       "2.3625034373253584e-08"
      ]
     },
     "execution_count": 21,
     "metadata": {},
     "output_type": "execute_result"
    }
   ],
   "source": [
    "res2['llf']-res3['llf']"
   ]
  },
  {
   "cell_type": "markdown",
   "id": "d1f45bcc",
   "metadata": {},
   "source": [
    "given the stan results, statsmodels can indeed return results indicating numerical instability in statsmodels."
   ]
  },
  {
   "cell_type": "markdown",
   "id": "e6a25ce5",
   "metadata": {},
   "source": [
    "## Discussion\n",
    "\n",
    "From the results described above, we find that stan and statsmodels return identical results if statsmodels can return results. In addition, the computing time for stan may be longer than statsmodels for the NBH model. This indicates if we want to apply the NBH model, we can run statsmodels first and if statsmodels does not return results, we can run stan to reduce the total computing time."
   ]
  },
  {
   "cell_type": "code",
   "execution_count": null,
   "id": "ddc756bd",
   "metadata": {},
   "outputs": [],
   "source": []
  }
 ],
 "metadata": {
  "kernelspec": {
   "display_name": "Python 3 (ipykernel)",
   "language": "python",
   "name": "python3"
  },
  "language_info": {
   "codemirror_mode": {
    "name": "ipython",
    "version": 3
   },
   "file_extension": ".py",
   "mimetype": "text/x-python",
   "name": "python",
   "nbconvert_exporter": "python",
   "pygments_lexer": "ipython3",
   "version": "3.9.13"
  }
 },
 "nbformat": 4,
 "nbformat_minor": 5
}
