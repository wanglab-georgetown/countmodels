{
 "cells": [
  {
   "cell_type": "markdown",
   "id": "989fd454",
   "metadata": {},
   "source": [
    "# Poisson Hurdle Model Test\n",
    "This shows that stan and statsmodels have very close results on a simulation dataset. This also cross validates both stan and statsmodels implemetations."
   ]
  },
  {
   "cell_type": "code",
   "execution_count": 1,
   "id": "0b4d6c93",
   "metadata": {},
   "outputs": [],
   "source": [
    "import sys\n",
    "sys.path.append(\"..\")\n",
    "from models.poih import PoiH\n",
    "sys.path.remove(\"..\")\n",
    "\n",
    "import numpy as np"
   ]
  },
  {
   "cell_type": "code",
   "execution_count": 2,
   "id": "c1cf5416",
   "metadata": {},
   "outputs": [],
   "source": [
    "def gen_pospoi(mu):\n",
    "    k=1000\n",
    "    while k>0:\n",
    "        v=poisson.rvs(mu)\n",
    "        if v>0:\n",
    "            return v\n",
    "        k=k-1\n",
    "    return 0\n",
    "\n",
    "def ztpoisson(lambda_par):\n",
    "    \"\"\"Zero truncated Poisson distribution.\"\"\"\n",
    "\n",
    "    temp = poisson.pmf(0, lambda_par)                \n",
    "    p = [uniform.rvs(loc=item, scale=1-item) for item in temp]\n",
    "    ztp = [int(poisson.ppf(p[i],lambda_par[i])) for i in range(len(lambda_par))]\n",
    "  \n",
    "    return np.array(ztp)"
   ]
  },
  {
   "cell_type": "code",
   "execution_count": 3,
   "id": "90b64fc7",
   "metadata": {},
   "outputs": [],
   "source": [
    "from scipy.stats import uniform, binom, poisson, bernoulli, norm\n",
    "import statsmodels.api as sm\n",
    "\n",
    "np.random.seed(1)                    # set seed to replicate example\n",
    "nobs= 250000                         # number of obs in model \n",
    "\n",
    "x1 = binom.rvs(1, 0.7, size=nobs)\n",
    "x2 = norm.rvs(loc=0, scale=1.0, size=nobs)\n",
    "\n",
    "X = sm.add_constant(np.column_stack((x1, x2)))\n",
    "X_infl = X[:,:2]\n",
    "\n",
    "beta = [1.0, -0.6, -0.3]\n",
    "xb = np.dot(X, beta)          # linear predictor\n",
    "\n",
    "# betal = [1.0, -0.3, -0.5]\n",
    "betal = [1.0, -0.3]\n",
    "xl = np.dot(X_infl, betal)         # linear predictor\n",
    "\n",
    "exb = np.exp(xb)\n",
    "exc = 1.0 / (1.0 + np.exp(-xl))\n",
    "\n",
    "p = bernoulli.rvs(exc)\n",
    "\n",
    "phy=np.zeros(nobs)\n",
    "for i in range(nobs):\n",
    "    if p[i]>0:\n",
    "        v = gen_pospoi(exb[i])\n",
    "        phy[i]=v"
   ]
  },
  {
   "cell_type": "code",
   "execution_count": 4,
   "id": "55409976",
   "metadata": {},
   "outputs": [],
   "source": [
    "# # this is an alternative way to generate poisson hurdle samples\n",
    "# from scipy.stats import uniform, binom, poisson, bernoulli, norm\n",
    "# import statsmodels.api as sm\n",
    "\n",
    "# np.random.seed(1)                    # set seed to replicate example\n",
    "# nobs= 250000                         # number of obs in model \n",
    "\n",
    "# x1 = binom.rvs(1, 0.7, size=nobs)\n",
    "# x2 = norm.rvs(loc=0, scale=1.0, size=nobs)\n",
    "\n",
    "# X = sm.add_constant(np.column_stack((x1, x2)))\n",
    "# X_infl = X\n",
    "\n",
    "# beta = [1.0, -0.6, -0.3]\n",
    "# xb = np.dot(X, beta)          # linear predictor\n",
    "\n",
    "# betal = [1.0, -0.3, -0.5]\n",
    "# xl = np.dot(X, betal)         # linear predictor\n",
    "\n",
    "# exb = np.exp(xb)\n",
    "# exc = 1.0 / (1.0 + np.exp(-xl))\n",
    "\n",
    "# p = bernoulli.rvs(exc)\n",
    "\n",
    "# phy=p*ztpoisson(exb)"
   ]
  },
  {
   "cell_type": "code",
   "execution_count": 5,
   "id": "8932c476",
   "metadata": {},
   "outputs": [],
   "source": [
    "mod = PoiH(phy,X,exog_infl=X_infl,model_path='../models')"
   ]
  },
  {
   "cell_type": "code",
   "execution_count": 6,
   "id": "66a155ac",
   "metadata": {},
   "outputs": [],
   "source": [
    "res0=mod.fit(method='stan')[0]\n",
    "res1=mod.fit(method='statsmodels')[0]"
   ]
  },
  {
   "cell_type": "markdown",
   "id": "9af096e8",
   "metadata": {},
   "source": [
    "true value of parameters"
   ]
  },
  {
   "cell_type": "code",
   "execution_count": 7,
   "id": "4427ee4a",
   "metadata": {},
   "outputs": [
    {
     "data": {
      "text/plain": [
       "[1.0, -0.3, 1.0, -0.6, -0.3]"
      ]
     },
     "execution_count": 7,
     "metadata": {},
     "output_type": "execute_result"
    }
   ],
   "source": [
    "betal+beta"
   ]
  },
  {
   "cell_type": "code",
   "execution_count": 8,
   "id": "9cda6bc7",
   "metadata": {},
   "outputs": [
    {
     "data": {
      "text/plain": [
       "{'params': array([ 1.00406835, -0.30395818,  0.9983285 , -0.60049126, -0.30103965]),\n",
       " 'llf_logit': -154802.03944282015,\n",
       " 'llf_poi': -248093.15764090483,\n",
       " 'llf': -402895.197083725,\n",
       " 'df': 5,\n",
       " 'aic': 805800.39416745,\n",
       " 'cpu_time': 1.2893235683441162,\n",
       " 'model': 'poih',\n",
       " 'method': 'stan'}"
      ]
     },
     "execution_count": 8,
     "metadata": {},
     "output_type": "execute_result"
    }
   ],
   "source": [
    "res0"
   ]
  },
  {
   "cell_type": "code",
   "execution_count": 9,
   "id": "9ae0273c",
   "metadata": {},
   "outputs": [
    {
     "data": {
      "text/plain": [
       "{'params': array([ 1.00406835, -0.30395818,  0.99833044, -0.60049971, -0.3010394 ]),\n",
       " 'llf_logit': -154802.03944282015,\n",
       " 'llf_poi': -248093.15763819497,\n",
       " 'llf': -402895.1970810151,\n",
       " 'df': 5,\n",
       " 'aic': 805800.3941620302,\n",
       " 'cpu_time': 1.214252233505249,\n",
       " 'model': 'poih',\n",
       " 'method': 'statsmodels'}"
      ]
     },
     "execution_count": 9,
     "metadata": {},
     "output_type": "execute_result"
    }
   ],
   "source": [
    "res1"
   ]
  },
  {
   "cell_type": "code",
   "execution_count": 10,
   "id": "fb55aea7",
   "metadata": {},
   "outputs": [
    {
     "data": {
      "text/plain": [
       "-2.7099158614873886e-06"
      ]
     },
     "execution_count": 10,
     "metadata": {},
     "output_type": "execute_result"
    }
   ],
   "source": [
    "res0['llf']-res1['llf']"
   ]
  },
  {
   "cell_type": "markdown",
   "id": "f676898c",
   "metadata": {},
   "source": [
    "## Test init"
   ]
  },
  {
   "cell_type": "code",
   "execution_count": 11,
   "id": "d60010fa",
   "metadata": {},
   "outputs": [],
   "source": [
    "res2=mod.fit(method='stan',start_params=res1['params'])[0]\n",
    "res3=mod.fit(method='statsmodels',start_params=res0['params'])[0]"
   ]
  },
  {
   "cell_type": "code",
   "execution_count": 12,
   "id": "05005d4e",
   "metadata": {},
   "outputs": [
    {
     "data": {
      "text/plain": [
       "(2.720160409808159e-06, -2.7099158614873886e-06)"
      ]
     },
     "execution_count": 12,
     "metadata": {},
     "output_type": "execute_result"
    }
   ],
   "source": [
    "res2['llf']-res0['llf'],res3['llf']-res1['llf']"
   ]
  },
  {
   "cell_type": "code",
   "execution_count": 13,
   "id": "e62a24a7",
   "metadata": {},
   "outputs": [
    {
     "data": {
      "text/plain": [
       "{'params': array([ 1.00406835, -0.30395818,  0.99833043, -0.60049946, -0.3010396 ]),\n",
       " 'llf_logit': -154802.0394428201,\n",
       " 'llf_poi': -248093.15763818478,\n",
       " 'llf': -402895.19708100485,\n",
       " 'df': 5,\n",
       " 'aic': 805800.3941620097,\n",
       " 'cpu_time': 0.5623042583465576,\n",
       " 'model': 'poih',\n",
       " 'method': 'stan'}"
      ]
     },
     "execution_count": 13,
     "metadata": {},
     "output_type": "execute_result"
    }
   ],
   "source": [
    "res2"
   ]
  },
  {
   "cell_type": "code",
   "execution_count": 14,
   "id": "3190b9a5",
   "metadata": {},
   "outputs": [
    {
     "data": {
      "text/plain": [
       "{'params': array([ 1.00406835, -0.30395818,  0.9983285 , -0.60049126, -0.30103965]),\n",
       " 'llf_logit': -154802.0394428201,\n",
       " 'llf_poi': -248093.15764090494,\n",
       " 'llf': -402895.197083725,\n",
       " 'df': 5,\n",
       " 'aic': 805800.39416745,\n",
       " 'cpu_time': 0.5592727661132812,\n",
       " 'model': 'poih',\n",
       " 'method': 'statsmodels'}"
      ]
     },
     "execution_count": 14,
     "metadata": {},
     "output_type": "execute_result"
    }
   ],
   "source": [
    "res3"
   ]
  },
  {
   "cell_type": "code",
   "execution_count": null,
   "id": "c7b9aa1e",
   "metadata": {},
   "outputs": [],
   "source": []
  }
 ],
 "metadata": {
  "kernelspec": {
   "display_name": "Python 3 (ipykernel)",
   "language": "python",
   "name": "python3"
  },
  "language_info": {
   "codemirror_mode": {
    "name": "ipython",
    "version": 3
   },
   "file_extension": ".py",
   "mimetype": "text/x-python",
   "name": "python",
   "nbconvert_exporter": "python",
   "pygments_lexer": "ipython3",
   "version": "3.9.13"
  }
 },
 "nbformat": 4,
 "nbformat_minor": 5
}
