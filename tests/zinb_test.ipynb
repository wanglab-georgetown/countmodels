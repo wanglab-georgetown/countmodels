{
 "cells": [
  {
   "cell_type": "markdown",
   "id": "1c3915f5",
   "metadata": {},
   "source": [
    "# Zero-inflated Negative Binomial Model Test\n",
    "This shows that stan and statsmodels have very close results on a simulation dataset provided that statsmodels converges. The first example also cross validates both stan and statsmodels implemetations. However, with slight changes of simulation data parameters, statsmodels fails to return results."
   ]
  },
  {
   "cell_type": "code",
   "execution_count": 1,
   "id": "2f6b9f02",
   "metadata": {},
   "outputs": [],
   "source": [
    "import sys\n",
    "sys.path.append(\"..\")\n",
    "from models.zinb import ZINB\n",
    "sys.path.remove(\"..\")\n",
    "\n",
    "import numpy as np"
   ]
  },
  {
   "cell_type": "code",
   "execution_count": 2,
   "id": "e3fe8d14",
   "metadata": {},
   "outputs": [],
   "source": [
    "from scipy.stats import uniform, binom, nbinom,bernoulli\n",
    "import statsmodels.api as sm\n",
    "\n",
    "np.random.seed(1)                 # set seed to replicate example\n",
    "nobs= 25000                          # number of obs in model \n",
    "\n",
    "x1 = binom.rvs(1, 0.6, size=nobs)   # categorical explanatory variable\n",
    "x2 = uniform.rvs(size=nobs)         # real explanatory variable\n",
    "\n",
    "theta = 0.5\n",
    "X = sm.add_constant(np.column_stack((x1, x2)))\n",
    "beta = [1.0, 0.8, -0.5]\n",
    "xb = np.dot(X, beta)          # linear predictor\n",
    "\n",
    "exb = np.exp(xb)\n",
    "\n",
    "xc = 1.6\n",
    "exc = 1.0 / (1.0 + np.exp(-xc))\n",
    "\n",
    "p = bernoulli.rvs(exc, size=(nobs,1))\n",
    "\n",
    "nby = nbinom.rvs(exb, theta).reshape((-1,1))*p\n",
    "X_infl=np.ones((nobs,1))"
   ]
  },
  {
   "cell_type": "code",
   "execution_count": 3,
   "id": "6d740913",
   "metadata": {},
   "outputs": [],
   "source": [
    "mod = ZINB(nby,X,exog_infl=X_infl,model_path='../models')"
   ]
  },
  {
   "cell_type": "code",
   "execution_count": 4,
   "id": "a79d49a5",
   "metadata": {},
   "outputs": [],
   "source": [
    "res0=mod.fit(method='stan')[0]\n",
    "res1=mod.fit(method='statsmodels')[0]"
   ]
  },
  {
   "cell_type": "markdown",
   "id": "5ecff9af",
   "metadata": {},
   "source": [
    "true value of parameters"
   ]
  },
  {
   "cell_type": "code",
   "execution_count": 5,
   "id": "702702e5",
   "metadata": {},
   "outputs": [
    {
     "data": {
      "text/plain": [
       "[-1.6, 1.0, 0.8, -0.5, 0.5]"
      ]
     },
     "execution_count": 5,
     "metadata": {},
     "output_type": "execute_result"
    }
   ],
   "source": [
    "[-xc]+beta+[theta]"
   ]
  },
  {
   "cell_type": "code",
   "execution_count": 6,
   "id": "a9670ad2",
   "metadata": {},
   "outputs": [
    {
     "data": {
      "text/plain": [
       "{'params': array([-1.5140275 ,  1.012603  ,  0.77146666, -0.45672494,  1.38959896]),\n",
       " 'llf': -54171.74256677648,\n",
       " 'df': 5,\n",
       " 'aic': 108353.48513355295,\n",
       " 'cpu_time': 0.30619287490844727,\n",
       " 'model': 'zinb',\n",
       " 'method': 'stan'}"
      ]
     },
     "execution_count": 6,
     "metadata": {},
     "output_type": "execute_result"
    }
   ],
   "source": [
    "res0"
   ]
  },
  {
   "cell_type": "code",
   "execution_count": 7,
   "id": "1f279e2f",
   "metadata": {},
   "outputs": [
    {
     "data": {
      "text/plain": [
       "{'params': array([-1.51405322,  1.01260657,  0.77150181, -0.45679195,  0.24917075]),\n",
       " 'llf': -54171.74256465311,\n",
       " 'df': 5,\n",
       " 'aic': 108353.48512930622,\n",
       " 'cpu_time': 1.131302833557129,\n",
       " 'model': 'zinb',\n",
       " 'method': 'statsmodels'}"
      ]
     },
     "execution_count": 7,
     "metadata": {},
     "output_type": "execute_result"
    }
   ],
   "source": [
    "res1"
   ]
  },
  {
   "cell_type": "code",
   "execution_count": 8,
   "id": "f0da501c",
   "metadata": {},
   "outputs": [
    {
     "data": {
      "text/plain": [
       "0.9999821084306637"
      ]
     },
     "execution_count": 8,
     "metadata": {},
     "output_type": "execute_result"
    }
   ],
   "source": [
    "np.exp(res0['params'][-1])*res1['params'][-1]"
   ]
  },
  {
   "cell_type": "code",
   "execution_count": 9,
   "id": "36cbe49e",
   "metadata": {},
   "outputs": [
    {
     "data": {
      "text/plain": [
       "-2.1233645384199917e-06"
      ]
     },
     "execution_count": 9,
     "metadata": {},
     "output_type": "execute_result"
    }
   ],
   "source": [
    "res0['llf']-res1['llf']"
   ]
  },
  {
   "cell_type": "markdown",
   "id": "df6c2a74",
   "metadata": {},
   "source": [
    "stan and statsmodels return almost identical results on the simulation data provided that statsmodels converges."
   ]
  },
  {
   "cell_type": "code",
   "execution_count": 10,
   "id": "3922847e",
   "metadata": {},
   "outputs": [
    {
     "name": "stdout",
     "output_type": "stream",
     "text": [
      "Metal device set to: Apple M2\n"
     ]
    }
   ],
   "source": [
    "res2=mod.fit(method='tensorflow')[0]"
   ]
  },
  {
   "cell_type": "code",
   "execution_count": 11,
   "id": "1e4dd451",
   "metadata": {},
   "outputs": [
    {
     "data": {
      "text/plain": [
       "{'params': array([-1.514226  ,  1.0128202 ,  0.77172554, -0.45652267,  1.3894166 ],\n",
       "       dtype=float32),\n",
       " 'llf': -54171.73121811506,\n",
       " 'aic': 108353.46243623013,\n",
       " 'df': 5,\n",
       " 'cpu_time': 2.5477070808410645,\n",
       " 'model': 'zinb',\n",
       " 'method': 'tensorflow'}"
      ]
     },
     "execution_count": 11,
     "metadata": {},
     "output_type": "execute_result"
    }
   ],
   "source": [
    "res2"
   ]
  },
  {
   "cell_type": "code",
   "execution_count": 12,
   "id": "2e836b72",
   "metadata": {},
   "outputs": [
    {
     "data": {
      "text/plain": [
       "-0.011348661413649097"
      ]
     },
     "execution_count": 12,
     "metadata": {},
     "output_type": "execute_result"
    }
   ],
   "source": [
    "res0['llf']-res2['llf']"
   ]
  },
  {
   "cell_type": "markdown",
   "id": "97853d73",
   "metadata": {},
   "source": [
    "TensorZINB returns the same results as stan"
   ]
  },
  {
   "cell_type": "code",
   "execution_count": 13,
   "id": "971f3d02",
   "metadata": {},
   "outputs": [],
   "source": [
    "from scipy.stats import uniform, binom, nbinom,bernoulli\n",
    "import statsmodels.api as sm\n",
    "\n",
    "np.random.seed(1)                 # set seed to replicate example\n",
    "nobs= 25000                          # number of obs in model \n",
    "\n",
    "x1 = binom.rvs(1, 0.6, size=nobs)   # categorical explanatory variable\n",
    "x2 = uniform.rvs(size=nobs)         # real explanatory variable\n",
    "\n",
    "theta = 0.5\n",
    "X = sm.add_constant(np.column_stack((x1, x2)))\n",
    "beta = [1.0, 2.0, -1.5]\n",
    "xb = np.dot(X, beta)          # linear predictor\n",
    "\n",
    "exb = np.exp(xb)\n",
    "\n",
    "xc = 1.2\n",
    "exc = 1.0 / (1.0 + np.exp(-xc))\n",
    "\n",
    "p = bernoulli.rvs(exc, size=(nobs,1))\n",
    "\n",
    "nby = nbinom.rvs(exb, theta).reshape((-1,1))*p\n",
    "X_infl=np.ones((nobs,1))"
   ]
  },
  {
   "cell_type": "code",
   "execution_count": 14,
   "id": "0a772f35",
   "metadata": {},
   "outputs": [],
   "source": [
    "mod = ZINB(nby,X,exog_infl=X_infl,model_path='../models')"
   ]
  },
  {
   "cell_type": "code",
   "execution_count": 15,
   "id": "27f3ed7e",
   "metadata": {},
   "outputs": [],
   "source": [
    "res0=mod.fit(method='stan')[0]\n",
    "res1=mod.fit(method='statsmodels')[0]"
   ]
  },
  {
   "cell_type": "code",
   "execution_count": 16,
   "id": "438cd45b",
   "metadata": {},
   "outputs": [
    {
     "data": {
      "text/plain": [
       "[-1.2, 1.0, 2.0, -1.5, 0.5]"
      ]
     },
     "execution_count": 16,
     "metadata": {},
     "output_type": "execute_result"
    }
   ],
   "source": [
    "[-xc]+beta+[theta]"
   ]
  },
  {
   "cell_type": "code",
   "execution_count": 17,
   "id": "33df0924",
   "metadata": {},
   "outputs": [
    {
     "data": {
      "text/plain": [
       "{'params': array([-0.99293726,  1.11499893,  1.88851324, -1.4900054 , 23.40440002]),\n",
       " 'llf': -56680.87932371076,\n",
       " 'df': 5,\n",
       " 'aic': 113371.75864742152,\n",
       " 'cpu_time': 0.24606108665466309,\n",
       " 'model': 'zinb',\n",
       " 'method': 'stan'}"
      ]
     },
     "execution_count": 17,
     "metadata": {},
     "output_type": "execute_result"
    }
   ],
   "source": [
    "res0"
   ]
  },
  {
   "cell_type": "code",
   "execution_count": 18,
   "id": "c11e19fd",
   "metadata": {},
   "outputs": [
    {
     "data": {
      "text/plain": [
       "{'params': array([-415.77309263,  -83.61421954, -185.98976246,  -56.76172747,\n",
       "        -402.59494368]),\n",
       " 'llf': nan,\n",
       " 'df': 5,\n",
       " 'aic': nan,\n",
       " 'cpu_time': 3.7377138137817383,\n",
       " 'model': 'zinb',\n",
       " 'method': 'statsmodels'}"
      ]
     },
     "execution_count": 18,
     "metadata": {},
     "output_type": "execute_result"
    }
   ],
   "source": [
    "res1"
   ]
  },
  {
   "cell_type": "markdown",
   "id": "6e864fa5",
   "metadata": {},
   "source": [
    "We just slightly change the coefficient. statsmodels does not converge and stan still return parameters."
   ]
  },
  {
   "cell_type": "code",
   "execution_count": 19,
   "id": "e568bab6",
   "metadata": {},
   "outputs": [],
   "source": [
    "res2=mod.fit(method='tensorflow')[0]"
   ]
  },
  {
   "cell_type": "code",
   "execution_count": 20,
   "id": "64c0dd7c",
   "metadata": {},
   "outputs": [
    {
     "data": {
      "text/plain": [
       "{'params': array([-1.0538806,  1.0795665,  1.9260335, -1.4970527,  2.2396865],\n",
       "       dtype=float32),\n",
       " 'llf': -54906.80794988855,\n",
       " 'aic': 109823.6158997771,\n",
       " 'df': 5,\n",
       " 'cpu_time': 0.8851919174194336,\n",
       " 'model': 'zinb',\n",
       " 'method': 'tensorflow'}"
      ]
     },
     "execution_count": 20,
     "metadata": {},
     "output_type": "execute_result"
    }
   ],
   "source": [
    "res2"
   ]
  },
  {
   "cell_type": "code",
   "execution_count": 21,
   "id": "a3a7df57",
   "metadata": {},
   "outputs": [
    {
     "data": {
      "text/plain": [
       "1774.0713738222112"
      ]
     },
     "execution_count": 21,
     "metadata": {},
     "output_type": "execute_result"
    }
   ],
   "source": [
    "res2['llf']-res0['llf']"
   ]
  },
  {
   "cell_type": "markdown",
   "id": "cc34b991",
   "metadata": {},
   "source": [
    "<!-- TensorZINB returns the same results as stan -->\n",
    "TensorZINB llf is higher than stan indicating stan converges to a local optimum."
   ]
  },
  {
   "cell_type": "code",
   "execution_count": 22,
   "id": "a4a23ccb",
   "metadata": {},
   "outputs": [],
   "source": [
    "res3=mod.fit(method='stan',start_params=res2['params'])[0]\n",
    "\n",
    "start_params = res2['params']\n",
    "start_params[-1]=np.exp(-start_params[-1])\n",
    "res4=mod.fit(method='statsmodels',start_params=start_params)[0]"
   ]
  },
  {
   "cell_type": "code",
   "execution_count": 23,
   "id": "7e9483ce",
   "metadata": {},
   "outputs": [
    {
     "data": {
      "text/plain": [
       "{'params': array([-1.05385225,  1.07903573,  1.92554664, -1.49730359,  2.24009856]),\n",
       " 'llf': -54906.77331677281,\n",
       " 'df': 5,\n",
       " 'aic': 109823.54663354561,\n",
       " 'cpu_time': 0.0932009220123291,\n",
       " 'model': 'zinb',\n",
       " 'method': 'stan'}"
      ]
     },
     "execution_count": 23,
     "metadata": {},
     "output_type": "execute_result"
    }
   ],
   "source": [
    "res3"
   ]
  },
  {
   "cell_type": "markdown",
   "id": "b2640b4d",
   "metadata": {},
   "source": [
    "When stan is initialized with TensorZINB results, stan can converge to a higher likelihood which again indicates stan converges to a local optimum."
   ]
  },
  {
   "cell_type": "code",
   "execution_count": 24,
   "id": "ec550932",
   "metadata": {},
   "outputs": [
    {
     "data": {
      "text/plain": [
       "array([-1.0538806 ,  1.0795665 ,  1.9260335 , -1.4970527 ,  0.10649189],\n",
       "      dtype=float32)"
      ]
     },
     "execution_count": 24,
     "metadata": {},
     "output_type": "execute_result"
    }
   ],
   "source": [
    "start_params"
   ]
  },
  {
   "cell_type": "code",
   "execution_count": 25,
   "id": "142e763b",
   "metadata": {},
   "outputs": [
    {
     "data": {
      "text/plain": [
       "{'params': array([-1.05345518,  1.07908155,  1.92561293, -1.49752726,  0.10644205]),\n",
       " 'llf': -54906.77287275191,\n",
       " 'df': 5,\n",
       " 'aic': 109823.54574550383,\n",
       " 'cpu_time': 0.6428148746490479,\n",
       " 'model': 'zinb',\n",
       " 'method': 'statsmodels'}"
      ]
     },
     "execution_count": 25,
     "metadata": {},
     "output_type": "execute_result"
    }
   ],
   "source": [
    "res4"
   ]
  },
  {
   "cell_type": "markdown",
   "id": "6f53415e",
   "metadata": {},
   "source": [
    "When statsmodels is initialized with TensorZINB results, statsmodels can return results which again indicates statsmodels has numerical instability issues in general."
   ]
  },
  {
   "cell_type": "markdown",
   "id": "07d69cf7",
   "metadata": {},
   "source": [
    "## Test Tensorflow init"
   ]
  },
  {
   "cell_type": "code",
   "execution_count": 26,
   "id": "e8f34a3d",
   "metadata": {},
   "outputs": [],
   "source": [
    "mod = ZINB(np.concatenate((nby,nby),axis=1),X,exog_infl=X_infl,model_path='../models')"
   ]
  },
  {
   "cell_type": "code",
   "execution_count": 27,
   "id": "cfc7afe7",
   "metadata": {},
   "outputs": [
    {
     "data": {
      "text/plain": [
       "[{'params': array([-1.0536436,  1.0793037,  1.9258136, -1.4972854,  2.239911 ],\n",
       "        dtype=float32),\n",
       "  'llf': -54907.19857488814,\n",
       "  'aic': 109824.39714977628,\n",
       "  'df': 5,\n",
       "  'cpu_time': 0.7104119062423706,\n",
       "  'model': 'zinb',\n",
       "  'method': 'tensorflow'},\n",
       " {'params': array([-1.0536436,  1.0793037,  1.9258136, -1.4972854,  2.239911 ],\n",
       "        dtype=float32),\n",
       "  'llf': -54907.19857488814,\n",
       "  'aic': 109824.39714977628,\n",
       "  'df': 5,\n",
       "  'cpu_time': 0.7104119062423706,\n",
       "  'model': 'zinb',\n",
       "  'method': 'tensorflow'}]"
      ]
     },
     "execution_count": 27,
     "metadata": {},
     "output_type": "execute_result"
    }
   ],
   "source": [
    "res6=mod.fit(method='tensorflow',start_params=res2['params'])\n",
    "res6"
   ]
  },
  {
   "cell_type": "code",
   "execution_count": 28,
   "id": "13936fb4",
   "metadata": {},
   "outputs": [
    {
     "data": {
      "text/plain": [
       "[{'params': array([-1.0537659,  1.0794762,  1.9259092, -1.4971656,  2.2398   ],\n",
       "        dtype=float32),\n",
       "  'llf': -54907.41732488814,\n",
       "  'aic': 109824.83464977628,\n",
       "  'df': 5,\n",
       "  'cpu_time': 0.20449388027191162,\n",
       "  'model': 'zinb',\n",
       "  'method': 'tensorflow'},\n",
       " {'params': array([-1.0537659,  1.0794762,  1.9259092, -1.4971656,  2.2398   ],\n",
       "        dtype=float32),\n",
       "  'llf': -54907.41732488814,\n",
       "  'aic': 109824.83464977628,\n",
       "  'df': 5,\n",
       "  'cpu_time': 0.20449388027191162,\n",
       "  'model': 'zinb',\n",
       "  'method': 'tensorflow'}]"
      ]
     },
     "execution_count": 28,
     "metadata": {},
     "output_type": "execute_result"
    }
   ],
   "source": [
    "res7=mod.fit(method='tensorflow',start_params=[r['params'] for r in res6])\n",
    "res7"
   ]
  },
  {
   "cell_type": "code",
   "execution_count": null,
   "id": "44b95213",
   "metadata": {},
   "outputs": [],
   "source": []
  }
 ],
 "metadata": {
  "kernelspec": {
   "display_name": "Python 3 (ipykernel)",
   "language": "python",
   "name": "python3"
  },
  "language_info": {
   "codemirror_mode": {
    "name": "ipython",
    "version": 3
   },
   "file_extension": ".py",
   "mimetype": "text/x-python",
   "name": "python",
   "nbconvert_exporter": "python",
   "pygments_lexer": "ipython3",
   "version": "3.9.13"
  }
 },
 "nbformat": 4,
 "nbformat_minor": 5
}
