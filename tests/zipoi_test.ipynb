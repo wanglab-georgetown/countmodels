{
 "cells": [
  {
   "cell_type": "markdown",
   "id": "f3a597c4",
   "metadata": {},
   "source": [
    "# Zero-inflated Poisson Model Test\n",
    "This shows that stan and statsmodels have very close results on a simulation dataset. The results also cross validates both stan and statsmodels implemetations."
   ]
  },
  {
   "cell_type": "code",
   "execution_count": 1,
   "id": "a5f7adb1",
   "metadata": {},
   "outputs": [],
   "source": [
    "import sys\n",
    "sys.path.append(\"..\")\n",
    "from models.zipoi import ZIPoi\n",
    "sys.path.remove(\"..\")\n",
    "\n",
    "import numpy as np"
   ]
  },
  {
   "cell_type": "code",
   "execution_count": 2,
   "id": "cdf2c202",
   "metadata": {},
   "outputs": [],
   "source": [
    "import numpy as np\n",
    "import statsmodels.api as sm\n",
    "\n",
    "from scipy.stats import uniform, norm, bernoulli,poisson\n",
    "\n",
    "# Data\n",
    "np.random.seed(1)                        # set seed to replicate example\n",
    "nobs= 10000                                 # number of obs in model \n",
    "\n",
    "x1 = uniform.rvs(size=nobs)\n",
    "\n",
    "xb = 1 + 2.0 * x1                          # linear predictor\n",
    "xc = 2 - 5.0 * x1\n",
    "\n",
    "exb = np.exp(xb)          \n",
    "exc = 1.0 / (1.0 + np.exp(-xc))\n",
    "\n",
    "p = bernoulli.rvs(exc)\n",
    "poi = poisson.rvs(exb)\n",
    "zipy = 0*p+(1-p)*poi\n",
    "\n",
    "X = np.transpose(x1)\n",
    "X = sm.add_constant(X)"
   ]
  },
  {
   "cell_type": "code",
   "execution_count": 3,
   "id": "b18e9c30",
   "metadata": {},
   "outputs": [],
   "source": [
    "mod = ZIPoi(zipy,X,exog_infl=X,model_path='../models')"
   ]
  },
  {
   "cell_type": "code",
   "execution_count": 4,
   "id": "415b6cd6",
   "metadata": {},
   "outputs": [],
   "source": [
    "res0=mod.fit(method='stan')[0]\n",
    "res1=mod.fit(method='statsmodels')[0]"
   ]
  },
  {
   "cell_type": "markdown",
   "id": "c0f38373",
   "metadata": {},
   "source": [
    "true value of parameters"
   ]
  },
  {
   "cell_type": "code",
   "execution_count": 5,
   "id": "a36c48fc",
   "metadata": {},
   "outputs": [
    {
     "data": {
      "text/plain": [
       "[2, -5, 1, 2]"
      ]
     },
     "execution_count": 5,
     "metadata": {},
     "output_type": "execute_result"
    }
   ],
   "source": [
    "[2,-5,1,2]"
   ]
  },
  {
   "cell_type": "code",
   "execution_count": 6,
   "id": "3c0f3a82",
   "metadata": {},
   "outputs": [
    {
     "data": {
      "text/plain": [
       "{'params': array([ 1.91691202, -4.85781513,  0.97624488,  2.03582806]),\n",
       " 'llf': -19880.48239675531,\n",
       " 'df': 4,\n",
       " 'aic': 39768.96479351062,\n",
       " 'cpu_time': 0.10698699951171875,\n",
       " 'model': 'zipoi',\n",
       " 'method': 'stan'}"
      ]
     },
     "execution_count": 6,
     "metadata": {},
     "output_type": "execute_result"
    }
   ],
   "source": [
    "res0"
   ]
  },
  {
   "cell_type": "code",
   "execution_count": 7,
   "id": "bb9c99db",
   "metadata": {},
   "outputs": [
    {
     "data": {
      "text/plain": [
       "{'params': array([ 1.91681146, -4.85778719,  0.97629782,  2.03575839]),\n",
       " 'llf': -19880.482386749973,\n",
       " 'df': 4,\n",
       " 'aic': 39768.964773499945,\n",
       " 'cpu_time': 0.29237985610961914,\n",
       " 'model': 'zipoi',\n",
       " 'method': 'statsmodels'}"
      ]
     },
     "execution_count": 7,
     "metadata": {},
     "output_type": "execute_result"
    }
   ],
   "source": [
    "res1"
   ]
  },
  {
   "cell_type": "code",
   "execution_count": 8,
   "id": "f2e960db",
   "metadata": {},
   "outputs": [
    {
     "data": {
      "text/plain": [
       "-1.0005336662288755e-05"
      ]
     },
     "execution_count": 8,
     "metadata": {},
     "output_type": "execute_result"
    }
   ],
   "source": [
    "res0['llf']-res1['llf']"
   ]
  },
  {
   "cell_type": "markdown",
   "id": "d15401d6",
   "metadata": {},
   "source": [
    "stan and statsmodels return almost identical results on a simulation dataset."
   ]
  },
  {
   "cell_type": "markdown",
   "id": "3fa35f9e",
   "metadata": {},
   "source": [
    "## Test init"
   ]
  },
  {
   "cell_type": "code",
   "execution_count": 9,
   "id": "b1cb5709",
   "metadata": {},
   "outputs": [],
   "source": [
    "res2=mod.fit(method='stan',start_params=res0['params'])[0]\n",
    "res3=mod.fit(method='statsmodels',start_params=res1['params'])[0]"
   ]
  },
  {
   "cell_type": "code",
   "execution_count": 10,
   "id": "24da5a18",
   "metadata": {},
   "outputs": [
    {
     "data": {
      "text/plain": [
       "{'params': array([ 1.91689995, -4.85782038,  0.97624887,  2.03581301]),\n",
       " 'llf': -19880.48239466169,\n",
       " 'df': 4,\n",
       " 'aic': 39768.96478932338,\n",
       " 'cpu_time': 0.03235936164855957,\n",
       " 'model': 'zipoi',\n",
       " 'method': 'stan'}"
      ]
     },
     "execution_count": 10,
     "metadata": {},
     "output_type": "execute_result"
    }
   ],
   "source": [
    "res2"
   ]
  },
  {
   "cell_type": "code",
   "execution_count": 11,
   "id": "c3a95339",
   "metadata": {},
   "outputs": [
    {
     "data": {
      "text/plain": [
       "{'params': array([ 1.91681146, -4.85778719,  0.97629782,  2.03575839]),\n",
       " 'llf': -19880.482386749973,\n",
       " 'df': 4,\n",
       " 'aic': 39768.964773499945,\n",
       " 'cpu_time': 0.03137612342834473,\n",
       " 'model': 'zipoi',\n",
       " 'method': 'statsmodels'}"
      ]
     },
     "execution_count": 11,
     "metadata": {},
     "output_type": "execute_result"
    }
   ],
   "source": [
    "res3"
   ]
  },
  {
   "cell_type": "code",
   "execution_count": null,
   "id": "566c1d09",
   "metadata": {},
   "outputs": [],
   "source": []
  }
 ],
 "metadata": {
  "kernelspec": {
   "display_name": "Python 3 (ipykernel)",
   "language": "python",
   "name": "python3"
  },
  "language_info": {
   "codemirror_mode": {
    "name": "ipython",
    "version": 3
   },
   "file_extension": ".py",
   "mimetype": "text/x-python",
   "name": "python",
   "nbconvert_exporter": "python",
   "pygments_lexer": "ipython3",
   "version": "3.9.13"
  }
 },
 "nbformat": 4,
 "nbformat_minor": 5
}
